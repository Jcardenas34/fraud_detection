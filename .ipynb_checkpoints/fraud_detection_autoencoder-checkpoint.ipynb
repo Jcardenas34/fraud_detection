{
 "cells": [
  {
   "cell_type": "code",
   "execution_count": 1,
   "id": "a6015c86-84cc-47d8-9c1a-a562b5a8f743",
   "metadata": {},
   "outputs": [],
   "source": [
    "# Importing the necessary libraries\n",
    "import torch\n",
    "import torch.optim as optim\n",
    "import torch.nn as nn\n",
    "import numpy as np\n",
    "import numpy\n",
    "import os\n",
    "import pandas as pd\n",
    "import argparse\n",
    "import h5py\n",
    "from sklearn.preprocessing import StandardScaler\n",
    "from torch.utils.data import DataLoader, TensorDataset\n",
    "import seaborn as sns\n",
    "import itertools\n",
    "from matplotlib import pyplot as plt\n",
    "from scipy.stats import zscore"
   ]
  },
  {
   "cell_type": "markdown",
   "id": "f46b7622-a570-4632-91f9-0834dfd47932",
   "metadata": {},
   "source": [
    "# Defining the model"
   ]
  },
  {
   "cell_type": "markdown",
   "id": "0f866d05-a2cf-4483-8990-45b607a7eb14",
   "metadata": {},
   "source": [
    "In this notebook, I create an autoencoder for the detection of fraudulent credit/debit card transactions. Auto encoders are useful in anomaly detection situations such as this, because they are trained to reconstruct inputs as close as possible to the original. Given that the dataset will be dominated by ordinary (non-fraudulent) bank transactions, the network will learn to reconstruct these events well, while struggling with anomalous transactions that could indicate fraud. I train and evaluate the network using the same dataset, and flag the transactions with a high Mean Squared Error (above a z-score threshold of 2) as potentially fraudulent. I then compare the transactions to the ones flagged as fraudulent by other methods and use that to make my final determination of fraudulent transactions, as well as base my insights on that set of transactions."
   ]
  },
  {
   "cell_type": "code",
   "execution_count": 2,
   "id": "55950b58-917d-457e-bbe4-4a5ec4988a0a",
   "metadata": {},
   "outputs": [],
   "source": [
    "# Defining an autoencoder class to make calling the model simpler main function\n",
    "class autoencoder(nn.Module):\n",
    "    '''\n",
    "    Description:\n",
    "    ---------------\n",
    "    A simple auto encoder used to detect instances of fraud in a dataset\n",
    "    '''\n",
    "    \n",
    "    def __init__(self, n_features = 11):\n",
    "        super(autoencoder, self).__init__()\n",
    "        \n",
    "        self.n_features = n_features\n",
    "        self.layer2_nodes = 100\n",
    "        self.layer3_nodes = 50\n",
    "        self.layer4_nodes = 20\n",
    "        self.latent_nodes = 10\n",
    "        \n",
    "        \n",
    "        # Defining the layers of the encoder\n",
    "        self.in_layer = torch.nn.Linear(self.n_features,   self.layer2_nodes)\n",
    "        self.layer1   = torch.nn.Linear(self.layer2_nodes, self.layer2_nodes)\n",
    "        self.layer2   = torch.nn.Linear(self.layer2_nodes, self.layer2_nodes)\n",
    "        self.layer3   = torch.nn.Linear(self.layer2_nodes, self.layer3_nodes)\n",
    "        self.layer4   = torch.nn.Linear(self.layer3_nodes, self.layer4_nodes)\n",
    "        self.layer5   = torch.nn.Linear(self.layer4_nodes, self.latent_nodes)\n",
    "    \n",
    "        # Defining the layers of the decoder\n",
    "        self.layer6 = torch.nn.Linear(self.latent_nodes, self.layer4_nodes)\n",
    "        self.layer7 = torch.nn.Linear(self.layer4_nodes, self.layer3_nodes)\n",
    "        self.layer8 = torch.nn.Linear(self.layer3_nodes, self.layer2_nodes)\n",
    "        self.layer9 = torch.nn.Linear(self.layer2_nodes, self.layer2_nodes)\n",
    "        self.layer10 = torch.nn.Linear(self.layer2_nodes, self.layer2_nodes)\n",
    "        self.out_layer = torch.nn.Linear(self.layer2_nodes, self.n_features)\n",
    "\n",
    "    \n",
    "\n",
    "    def encoder(self, x):\n",
    "        # Constructing the encoder stack\n",
    "        h = torch.relu(self.in_layer(x))\n",
    "        h = torch.relu(self.layer1(h))\n",
    "        h = torch.relu(self.layer2(h))\n",
    "        h = torch.relu(self.layer3(h))\n",
    "        h = torch.relu(self.layer4(h))\n",
    "        h = torch.relu(self.layer5(h))\n",
    "        return h       \n",
    "\n",
    "    def decoder(self, x):\n",
    "        # Constructing the decoder stack\n",
    "        h = torch.relu(self.layer6(x))\n",
    "        h = torch.relu(self.layer7(h))\n",
    "        h = torch.relu(self.layer8(h))\n",
    "        h = torch.relu(self.layer9(h))\n",
    "        h = torch.relu(self.layer10(h))\n",
    "        h = torch.relu(self.out_layer(h))\n",
    "        return h  \n",
    "\n",
    "    def forward(self, x):\n",
    "        # This function will always be called in pytorch\n",
    "        latent_representation = self.encoder(x)\n",
    "        return self.decoder(latent_representation)\n",
    "        "
   ]
  },
  {
   "cell_type": "code",
   "execution_count": 3,
   "id": "d4965203-fd99-45e7-a9eb-915e182ff04e",
   "metadata": {},
   "outputs": [],
   "source": [
    "def train_autoencoder(data_path, model_path, batch_size=200, epochs=20, learning_rate=.01, momentum = 0.9, weight_decay = 0.0001, num_workers=4, loss_per_batch=False):\n",
    "    \"\"\"\n",
    "    Description:\n",
    "    ------------\n",
    "    Submitting the chain of events to run a very simple auto-encoder for detecting fraud transactions in credit card data. \n",
    "    \"\"\"\n",
    "    \n",
    "    # Specifying the data keys and label key for use in the data loader\n",
    "    df = pd.read_hdf(input_data_path, key='fraud_dataset')\n",
    "\n",
    "    # Retreiving the number of features in the dataset, making the model open to different datasets with more or less features\n",
    "    n_features = len(df.columns)\n",
    "\n",
    "    # Transforming the data to put them on the same scale, and improve reconstruction\n",
    "    X = StandardScaler().fit_transform(df)\n",
    "    X_tensor = torch.tensor(X, dtype=torch.float32)\n",
    "\n",
    "    # Converting to a pytorch-compatible dataset\n",
    "    fraud_dataset = TensorDataset(X_tensor)\n",
    "    \n",
    "    # Load the data \n",
    "    train_dataloader = torch.utils.data.DataLoader(fraud_dataset, batch_size=batch_size, shuffle=True, num_workers=num_workers)\n",
    "\n",
    "    # Enable usage of GPUs if available\n",
    "    device = torch.device(\"cuda\" if torch.cuda.is_available() else \"cpu\")\n",
    "\n",
    "    # Define the auto endocder, I am going to start with just a few layers, the total number of input features is X\n",
    "    model = autoencoder(n_features=n_features).to(device)\n",
    "    \n",
    "    # Define the loss function, simple mean squared error loss\n",
    "    loss_function = torch.nn.MSELoss()\n",
    "\n",
    "    # Define the optimizer\n",
    "    optimizer = optim.Adam(model.parameters(), lr=learning_rate) #, momentum=momentum, weight_decay=weight_decay)\n",
    "\n",
    "\n",
    "    # Finally, train the model\n",
    "    model.train()\n",
    "\n",
    "    \n",
    "    for epoch in range(epochs):\n",
    "        train_loss = 0\n",
    "        for batch_idx, batch in enumerate(train_dataloader):\n",
    "\n",
    "            # Reset the gradients from the last epoch \n",
    "            optimizer.zero_grad()\n",
    "            \n",
    "            # Processing the data in the batch\n",
    "            output = model(batch[0])\n",
    "\n",
    "            # Calculating the loss of the batch\n",
    "            loss = loss_function(output, batch[0])\n",
    "\n",
    "            # The actual learning takes place here\n",
    "            loss.backward()\n",
    "            optimizer.step()\n",
    "\n",
    "            train_loss += loss.item()\n",
    "\n",
    "            # Print out the loss per batch\n",
    "            if loss_per_batch:\n",
    "                print(\"\\tEpoch {} [{}/{} ({:.0f}%)]\\tLoss: {:.6f}\".format(\n",
    "                    epoch, batch_idx , len(train_dataloader),\n",
    "                    100. * batch_idx / len(train_dataloader), loss.item()\n",
    "                    ))\n",
    "\n",
    "            \n",
    "        print(f\"Epoch {epoch} Average Loss: {train_loss / len(train_dataloader):.4f}\")\n",
    "\n",
    "    \n",
    "    # Save the model\n",
    "    torch.save(model, model_path)\n",
    "\n",
    "\n"
   ]
  },
  {
   "cell_type": "markdown",
   "id": "73674de5-b28d-45aa-ae00-8666b46616a8",
   "metadata": {},
   "source": [
    "# Training the model, and choosing parameters"
   ]
  },
  {
   "cell_type": "markdown",
   "id": "467766d5-db9c-4c33-9090-8b467121dfcb",
   "metadata": {},
   "source": [
    "There are a number of hyperparameters that we can tune to train our network, importantly I will choose the batch size to be rather small, to allow the network to have batches of data that have a high proportion of non-fraud transactions. Given that instances of fraud should be low, in the ZScore analysis it represented ~5% of the data, I will place the batch size on the same scale as this, so most of the batches are completely non-fraud."
   ]
  },
  {
   "cell_type": "code",
   "execution_count": 6,
   "id": "7f360691-e3eb-4068-b9e4-0b1628c7014d",
   "metadata": {},
   "outputs": [
    {
     "name": "stdout",
     "output_type": "stream",
     "text": [
      "Choosing batch size to be about 10% of the data, batch_size=251\n"
     ]
    }
   ],
   "source": [
    "# Basing batch size on predicted fraud rate\n",
    "input_data_path = \"./credit_card_fraud.h5\"\n",
    "df = pd.read_hdf(input_data_path, key='fraud_dataset')\n",
    "dataset_len = len(df[\"Channel\"])\n",
    "batch_size = int(.10*dataset_len)\n",
    "print(\"Choosing batch size to be about 10% of the data, batch_size={}\".format(batch_size))"
   ]
  },
  {
   "cell_type": "code",
   "execution_count": 7,
   "id": "52eaf858-bae6-40a9-97ef-bd169def944f",
   "metadata": {},
   "outputs": [
    {
     "name": "stdout",
     "output_type": "stream",
     "text": [
      "Epoch 0 Average Loss: 0.9753\n",
      "Epoch 1 Average Loss: 0.9898\n",
      "Epoch 2 Average Loss: 0.9811\n",
      "Epoch 3 Average Loss: 0.9845\n",
      "Epoch 4 Average Loss: 0.9658\n",
      "Epoch 5 Average Loss: 0.9573\n",
      "Epoch 6 Average Loss: 0.9864\n",
      "Epoch 7 Average Loss: 0.9980\n",
      "Epoch 8 Average Loss: 0.9709\n",
      "Epoch 9 Average Loss: 1.1661\n",
      "Epoch 10 Average Loss: 1.0356\n",
      "Epoch 11 Average Loss: 0.9671\n",
      "Epoch 12 Average Loss: 0.9958\n",
      "Epoch 13 Average Loss: 0.9723\n",
      "Epoch 14 Average Loss: 0.9620\n",
      "Epoch 15 Average Loss: 0.9724\n",
      "Epoch 16 Average Loss: 0.9513\n",
      "Epoch 17 Average Loss: 1.0510\n",
      "Epoch 18 Average Loss: 0.9937\n",
      "Epoch 19 Average Loss: 0.9728\n",
      "Epoch 20 Average Loss: 0.9707\n",
      "Epoch 21 Average Loss: 0.9636\n",
      "Epoch 22 Average Loss: 0.9822\n",
      "Epoch 23 Average Loss: 0.9931\n",
      "Epoch 24 Average Loss: 1.0057\n",
      "Epoch 25 Average Loss: 0.9954\n",
      "Epoch 26 Average Loss: 1.0756\n",
      "Epoch 27 Average Loss: 0.9724\n",
      "Epoch 28 Average Loss: 1.0410\n",
      "Epoch 29 Average Loss: 1.0626\n"
     ]
    }
   ],
   "source": [
    "# Training the model \n",
    "input_data_path = \"./credit_card_fraud.h5\"\n",
    "model_name = \"./model.h5\"\n",
    "epochs = 30\n",
    "train_autoencoder(input_data_path, model_name, batch_size=batch_size, epochs=epochs, learning_rate=.01, momentum = 0.9, weight_decay = 0.0001, num_workers=4, loss_per_batch=False)"
   ]
  },
  {
   "cell_type": "markdown",
   "id": "973999b8-0420-487c-b5f1-0fb09b4ead65",
   "metadata": {},
   "source": [
    "# Interpreting the loss"
   ]
  },
  {
   "cell_type": "markdown",
   "id": "17d29647-0d87-4e1d-91bd-a2fa6dcfaa63",
   "metadata": {},
   "source": [
    "Here we can see that the loss is less than 1, but still far from 0, which would provide perfect reconstruction. We expect a loss not near 0 in this case, because we are searching for anomalies. We want some of the data samples to have a large loss, since this is the metric we will use to flag instances of fraud. A very low loss would also indicate that the model is overfitting. Let's interpret the loss of the data samples, by evaluating the dataset with the autoencoder, and noting the data that has a high reconstruction loss. "
   ]
  },
  {
   "cell_type": "code",
   "execution_count": 8,
   "id": "b4ec90ef-9df5-419c-a3c0-88833a1c26fb",
   "metadata": {},
   "outputs": [],
   "source": [
    "# Lets read in the data to evaluate\n",
    "df = pd.read_hdf(input_data_path, key='fraud_dataset')\n",
    "\n",
    "# Providing the same treatment to the data as when it was trained \n",
    "X = StandardScaler().fit_transform(df)\n",
    "X_tensor = torch.tensor(X, dtype=torch.float32)\n",
    "\n",
    "# Loading the model\n",
    "loaded_model = torch.load(\"./model.h5\")\n",
    "\n",
    "# Switch the model to evaluation mode\n",
    "loaded_model.eval()\n",
    "\n",
    "# Calculate reconstruction errors for the entire dataset\n",
    "with torch.no_grad():\n",
    "    reconstructed = loaded_model(X_tensor)\n",
    "    reconstruction_errors = torch.nn.functional.mse_loss(reconstructed, X_tensor, reduction='none')  # none does not apply an operation to the output\n",
    "    sample_errors = reconstruction_errors.mean(dim=1)  # Take the mean error of each sample (add the differences of each feature, and divide by the number of features)\n",
    "\n",
    "# Convert to numpy for entry into the pandas df\n",
    "sample_errors_np = sample_errors.numpy()"
   ]
  },
  {
   "cell_type": "code",
   "execution_count": 9,
   "id": "b95c7ac7-5580-4bd0-a36d-10a8db3a142c",
   "metadata": {},
   "outputs": [],
   "source": [
    "# Transforming the scores into Z-Scores to make a choice of fraud threshold based on statistics\n",
    "mse_zscores = zscore(sample_errors_np)\n",
    "df[\"MSE_AE_zscores\"] = zscore(sample_errors_np)\n",
    "\n",
    "# Add the raw MSE as a column to the original table as an alternative metric\n",
    "df[\"MSE_AE\"] = sample_errors_np"
   ]
  },
  {
   "cell_type": "code",
   "execution_count": 10,
   "id": "ee97a921-20ab-4f08-8b1b-cf31171026d4",
   "metadata": {},
   "outputs": [],
   "source": [
    "# Lets define some functions that will help me plot the characteristics\n",
    "\n",
    "def create_histo_1d(x_var=\"MSE_AE\", hue_var=None, threshold=None, dataset=df):\n",
    "    # Histogram for plotting the frequency of a variable occurrence\n",
    "    plt.figure(figsize=(6, 4))\n",
    "    sns.histplot(\n",
    "        x=dataset[x_var],\n",
    "        hue = dataset[hue_var]>threshold,\n",
    "        alpha=0.7\n",
    "    )\n",
    "    plt.title(x_var, fontsize=16)\n",
    "    plt.xlabel(x_var, fontsize=14)\n",
    "    plt.grid(True)\n",
    "    plt.show()\n",
    "    \n",
    "def create_histo_2d(x_var, y_var, dataset):\n",
    "    # 2D histogram for Z-Score fraud detection\n",
    "    plt.figure(figsize=(6, 4))\n",
    "    sns.histplot(\n",
    "        x=dataset[x_var],\n",
    "        y=dataset[y_var],\n",
    "        hue=dataset[\"MSE\"]>2,\n",
    "        palette={True: 'red', False: 'blue'},\n",
    "        alpha=0.7\n",
    "    )\n",
    "    plt.title('AutoEncoder Fraud Detection', fontsize=16)\n",
    "    plt.xlabel(x_var, fontsize=14)\n",
    "    plt.ylabel(y_var, fontsize=14)\n",
    "    plt.legend(title='Fraud', \n",
    "               labels=['Fraud', 'Normal'], \n",
    "               fontsize=12)\n",
    "    plt.grid(True)\n",
    "    plt.show()\n"
   ]
  },
  {
   "cell_type": "markdown",
   "id": "ff6b0baa-464e-49f3-819e-4b537c5c6a28",
   "metadata": {},
   "source": [
    "# Visualizing the MSE scores"
   ]
  },
  {
   "cell_type": "code",
   "execution_count": 11,
   "id": "021a1044-6e3b-4b96-b242-3784451ef5f4",
   "metadata": {},
   "outputs": [
    {
     "data": {
      "image/png": "[encoded data removed]",
      "text/plain": [
       "<Figure size 600x400 with 1 Axes>"
      ]
     },
     "metadata": {},
     "output_type": "display_data"
    },
    {
     "data": {
      "image/png": "[encoded data removed]",
      "text/plain": [
       "<Figure size 600x400 with 1 Axes>"
      ]
     },
     "metadata": {},
     "output_type": "display_data"
    }
   ],
   "source": [
    "# Lets make plots of the MSE when we choose 2 as the threshold\n",
    "create_histo_1d(\"MSE_AE\", hue_var = \"MSE_AE\", threshold=2, dataset=df)\n",
    "create_histo_1d(\"MSE_AE_zscores\", hue_var = \"MSE_AE_zscores\", threshold=2, dataset=df)"
   ]
  },
  {
   "cell_type": "markdown",
   "id": "726184de-b728-469b-a2e3-92c9c80a7fc7",
   "metadata": {},
   "source": [
    "# Flagging instances of fraud"
   ]
  },
  {
   "cell_type": "markdown",
   "id": "943d7032-3d3f-4475-97f4-4097e226a7a1",
   "metadata": {},
   "source": [
    "I like the choice of 2 as the threshold to indicate fraud, when looking at both the z score as well as the raw MSE, we can see that MOST of the distribution lies under the value of 2, but using the z score = 2 is more robust since it has statistical backing, meaning that 95% of the data lies under this value. And anything above could be considered anamolous.  "
   ]
  },
  {
   "cell_type": "code",
   "execution_count": 12,
   "id": "c9f64ba4-eb53-495a-aa85-e3798786c721",
   "metadata": {},
   "outputs": [
    {
     "name": "stdout",
     "output_type": "stream",
     "text": [
      "70 out of 2512 data entries have fraud characteristics, or 2.786624203821656% of the sample\n"
     ]
    }
   ],
   "source": [
    "# Setting teh fraud threshold\n",
    "df['MSE_AE_Fraud'] = df['MSE_AE_zscores'] > 2\n",
    "\n",
    "\n",
    "# Determining the total number of fraud cases\n",
    "fraud_count = (df[\"MSE_AE_Fraud\"]==True).sum()\n",
    "\n",
    "\n",
    "# Of all the cases, there are some that have a statistical anamoly enough for the autoencoder to pick up, and constitute fraud, these are\n",
    "print(\"{} out of {} data entries have fraud characteristics, or {}% of the sample\".format(fraud_count, df[\"MSE_AE_Fraud\"].count(),100*fraud_count/df[\"MSE_AE_Fraud\"].count()))\n",
    "\n"
   ]
  },
  {
   "cell_type": "markdown",
   "id": "9e99d653-dfe7-4d14-b04e-8476bd49833b",
   "metadata": {},
   "source": [
    "# Exporitng the data"
   ]
  },
  {
   "cell_type": "markdown",
   "id": "730a2727-cba7-49f6-9e89-2e95e56709be",
   "metadata": {},
   "source": [
    "Lets export this dataset, so that we can make comparisons as to which transactions were flagged as fraud across methods "
   ]
  },
  {
   "cell_type": "code",
   "execution_count": 13,
   "id": "aeb79b7a-1b21-4fe0-869e-642bb51f55c7",
   "metadata": {},
   "outputs": [],
   "source": [
    "df.to_csv(\"./identified_fraud_autoencoder.csv\")"
   ]
  }
 ],
 "metadata": {
  "kernelspec": {
   "display_name": "Python 3 (ipykernel)",
   "language": "python",
   "name": "python3"
  },
  "language_info": {
   "codemirror_mode": {
    "name": "ipython",
    "version": 3
   },
   "file_extension": ".py",
   "mimetype": "text/x-python",
   "name": "python",
   "nbconvert_exporter": "python",
   "pygments_lexer": "ipython3",
   "version": "3.11.5"
  }
 },
 "nbformat": 4,
 "nbformat_minor": 5
}
