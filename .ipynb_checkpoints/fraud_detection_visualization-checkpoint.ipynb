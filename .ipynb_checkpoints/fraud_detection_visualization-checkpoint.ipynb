{
 "cells": [
  {
   "cell_type": "code",
   "execution_count": 2,
   "id": "182f6f98",
   "metadata": {},
   "outputs": [
    {
     "name": "stderr",
     "output_type": "stream",
     "text": [
      "Matplotlib is building the font cache; this may take a moment.\n"
     ]
    }
   ],
   "source": [
    "# importing the necessary packages to visualize the data, to make decisions on the fraud detection network.\n",
    "import os\n",
    "import sys\n",
    "import pandas as pd\n",
    "import numpy as np\n",
    "import matplotlib.pyplot as plt\n",
    "import argparse"
   ]
  },
  {
   "cell_type": "code",
   "execution_count": 3,
   "id": "3ecedbba",
   "metadata": {},
   "outputs": [],
   "source": [
    "def set_x_y_limits(plot_array, x, y):\n",
    "    for plot in plot_array:\n",
    "        plot.set_xlim(0, x)\n",
    "        plot.set_ylim(1, y)\n",
    "        plot.semilogy()"
   ]
  },
  {
   "cell_type": "code",
   "execution_count": 4,
   "id": "996408f5",
   "metadata": {},
   "outputs": [],
   "source": [
    "# Load the fraud deteection dataset from kaggle\n",
    "df = pd.read_csv(\"/Users/chiral/git_projects/fraud_detection/dataset/bank_transactions_data_2.csv\")"
   ]
  },
  {
   "cell_type": "code",
   "execution_count": 5,
   "id": "ed266bcf",
   "metadata": {},
   "outputs": [
    {
     "name": "stdout",
     "output_type": "stream",
     "text": [
      "Index(['TransactionID', 'AccountID', 'TransactionAmount', 'TransactionDate',\n",
      "       'TransactionType', 'Location', 'DeviceID', 'IP Address', 'MerchantID',\n",
      "       'Channel', 'CustomerAge', 'CustomerOccupation', 'TransactionDuration',\n",
      "       'LoginAttempts', 'AccountBalance', 'PreviousTransactionDate'],\n",
      "      dtype='object')\n"
     ]
    }
   ],
   "source": [
    "# Taking a first look at the contents of the dataset\n",
    "print(df.columns)"
   ]
  },
  {
   "cell_type": "code",
   "execution_count": 6,
   "id": "6bc1e116",
   "metadata": {},
   "outputs": [
    {
     "data": {
      "text/html": [
       "<div>\n",
       "<style scoped>\n",
       "    .dataframe tbody tr th:only-of-type {\n",
       "        vertical-align: middle;\n",
       "    }\n",
       "\n",
       "    .dataframe tbody tr th {\n",
       "        vertical-align: top;\n",
       "    }\n",
       "\n",
       "    .dataframe thead th {\n",
       "        text-align: right;\n",
       "    }\n",
       "</style>\n",
       "<table border=\"1\" class=\"dataframe\">\n",
       "  <thead>\n",
       "    <tr style=\"text-align: right;\">\n",
       "      <th></th>\n",
       "      <th>TransactionID</th>\n",
       "      <th>AccountID</th>\n",
       "      <th>TransactionAmount</th>\n",
       "      <th>TransactionDate</th>\n",
       "      <th>TransactionType</th>\n",
       "      <th>Location</th>\n",
       "      <th>DeviceID</th>\n",
       "      <th>IP Address</th>\n",
       "      <th>MerchantID</th>\n",
       "      <th>Channel</th>\n",
       "      <th>CustomerAge</th>\n",
       "      <th>CustomerOccupation</th>\n",
       "      <th>TransactionDuration</th>\n",
       "      <th>LoginAttempts</th>\n",
       "      <th>AccountBalance</th>\n",
       "      <th>PreviousTransactionDate</th>\n",
       "    </tr>\n",
       "  </thead>\n",
       "  <tbody>\n",
       "    <tr>\n",
       "      <th>0</th>\n",
       "      <td>TX000001</td>\n",
       "      <td>AC00128</td>\n",
       "      <td>14.09</td>\n",
       "      <td>4/11/23 16:29</td>\n",
       "      <td>Debit</td>\n",
       "      <td>San Diego</td>\n",
       "      <td>D000380</td>\n",
       "      <td>162.198.218.92</td>\n",
       "      <td>M015</td>\n",
       "      <td>ATM</td>\n",
       "      <td>70</td>\n",
       "      <td>Doctor</td>\n",
       "      <td>81</td>\n",
       "      <td>1</td>\n",
       "      <td>5112.21</td>\n",
       "      <td>11/4/24 08:08</td>\n",
       "    </tr>\n",
       "    <tr>\n",
       "      <th>1</th>\n",
       "      <td>TX000002</td>\n",
       "      <td>AC00455</td>\n",
       "      <td>376.24</td>\n",
       "      <td>6/27/23 16:44</td>\n",
       "      <td>Debit</td>\n",
       "      <td>Houston</td>\n",
       "      <td>D000051</td>\n",
       "      <td>13.149.61.4</td>\n",
       "      <td>M052</td>\n",
       "      <td>ATM</td>\n",
       "      <td>68</td>\n",
       "      <td>Doctor</td>\n",
       "      <td>141</td>\n",
       "      <td>1</td>\n",
       "      <td>13758.91</td>\n",
       "      <td>11/4/24 08:09</td>\n",
       "    </tr>\n",
       "    <tr>\n",
       "      <th>2</th>\n",
       "      <td>TX000003</td>\n",
       "      <td>AC00019</td>\n",
       "      <td>126.29</td>\n",
       "      <td>7/10/23 18:16</td>\n",
       "      <td>Debit</td>\n",
       "      <td>Mesa</td>\n",
       "      <td>D000235</td>\n",
       "      <td>215.97.143.157</td>\n",
       "      <td>M009</td>\n",
       "      <td>Online</td>\n",
       "      <td>19</td>\n",
       "      <td>Student</td>\n",
       "      <td>56</td>\n",
       "      <td>1</td>\n",
       "      <td>1122.35</td>\n",
       "      <td>11/4/24 08:07</td>\n",
       "    </tr>\n",
       "    <tr>\n",
       "      <th>3</th>\n",
       "      <td>TX000004</td>\n",
       "      <td>AC00070</td>\n",
       "      <td>184.50</td>\n",
       "      <td>5/5/23 16:32</td>\n",
       "      <td>Debit</td>\n",
       "      <td>Raleigh</td>\n",
       "      <td>D000187</td>\n",
       "      <td>200.13.225.150</td>\n",
       "      <td>M002</td>\n",
       "      <td>Online</td>\n",
       "      <td>26</td>\n",
       "      <td>Student</td>\n",
       "      <td>25</td>\n",
       "      <td>1</td>\n",
       "      <td>8569.06</td>\n",
       "      <td>11/4/24 08:09</td>\n",
       "    </tr>\n",
       "    <tr>\n",
       "      <th>4</th>\n",
       "      <td>TX000005</td>\n",
       "      <td>AC00411</td>\n",
       "      <td>13.45</td>\n",
       "      <td>10/16/23 17:51</td>\n",
       "      <td>Credit</td>\n",
       "      <td>Atlanta</td>\n",
       "      <td>D000308</td>\n",
       "      <td>65.164.3.100</td>\n",
       "      <td>M091</td>\n",
       "      <td>Online</td>\n",
       "      <td>26</td>\n",
       "      <td>Student</td>\n",
       "      <td>198</td>\n",
       "      <td>1</td>\n",
       "      <td>7429.40</td>\n",
       "      <td>11/4/24 08:06</td>\n",
       "    </tr>\n",
       "  </tbody>\n",
       "</table>\n",
       "</div>"
      ],
      "text/plain": [
       "  TransactionID AccountID  TransactionAmount TransactionDate TransactionType  \\\n",
       "0      TX000001   AC00128              14.09   4/11/23 16:29           Debit   \n",
       "1      TX000002   AC00455             376.24   6/27/23 16:44           Debit   \n",
       "2      TX000003   AC00019             126.29   7/10/23 18:16           Debit   \n",
       "3      TX000004   AC00070             184.50    5/5/23 16:32           Debit   \n",
       "4      TX000005   AC00411              13.45  10/16/23 17:51          Credit   \n",
       "\n",
       "    Location DeviceID      IP Address MerchantID Channel  CustomerAge  \\\n",
       "0  San Diego  D000380  162.198.218.92       M015     ATM           70   \n",
       "1    Houston  D000051     13.149.61.4       M052     ATM           68   \n",
       "2       Mesa  D000235  215.97.143.157       M009  Online           19   \n",
       "3    Raleigh  D000187  200.13.225.150       M002  Online           26   \n",
       "4    Atlanta  D000308    65.164.3.100       M091  Online           26   \n",
       "\n",
       "  CustomerOccupation  TransactionDuration  LoginAttempts  AccountBalance  \\\n",
       "0             Doctor                   81              1         5112.21   \n",
       "1             Doctor                  141              1        13758.91   \n",
       "2            Student                   56              1         1122.35   \n",
       "3            Student                   25              1         8569.06   \n",
       "4            Student                  198              1         7429.40   \n",
       "\n",
       "  PreviousTransactionDate  \n",
       "0           11/4/24 08:08  \n",
       "1           11/4/24 08:09  \n",
       "2           11/4/24 08:07  \n",
       "3           11/4/24 08:09  \n",
       "4           11/4/24 08:06  "
      ]
     },
     "execution_count": 6,
     "metadata": {},
     "output_type": "execute_result"
    }
   ],
   "source": [
    "# Taking a first look at the actual data\n",
    "df.head()"
   ]
  },
  {
   "cell_type": "code",
   "execution_count": 7,
   "id": "4eb880f2",
   "metadata": {},
   "outputs": [],
   "source": [
    "# Notice how a few columns could be of interest to detect fraud\n",
    "# IP Address, Login attempts, transaction duration, channel,\n",
    "# If any of these are out of the norm, we can flag them as suspicious.\n",
    "# Maybe the distributions of each is within normal bounds, but a combination of all is anamolous\n"
   ]
  },
  {
   "cell_type": "code",
   "execution_count": 19,
   "id": "006105fa",
   "metadata": {},
   "outputs": [
    {
     "name": "stdout",
     "output_type": "stream",
     "text": [
      "['ATM' 'Online' 'Branch']\n"
     ]
    },
    {
     "data": {
      "text/html": [
       "<div>\n",
       "<style scoped>\n",
       "    .dataframe tbody tr th:only-of-type {\n",
       "        vertical-align: middle;\n",
       "    }\n",
       "\n",
       "    .dataframe tbody tr th {\n",
       "        vertical-align: top;\n",
       "    }\n",
       "\n",
       "    .dataframe thead th {\n",
       "        text-align: right;\n",
       "    }\n",
       "</style>\n",
       "<table border=\"1\" class=\"dataframe\">\n",
       "  <thead>\n",
       "    <tr style=\"text-align: right;\">\n",
       "      <th></th>\n",
       "      <th>Location_numeric</th>\n",
       "      <th>Location</th>\n",
       "    </tr>\n",
       "  </thead>\n",
       "  <tbody>\n",
       "    <tr>\n",
       "      <th>0</th>\n",
       "      <td>36</td>\n",
       "      <td>San Diego</td>\n",
       "    </tr>\n",
       "    <tr>\n",
       "      <th>1</th>\n",
       "      <td>15</td>\n",
       "      <td>Houston</td>\n",
       "    </tr>\n",
       "    <tr>\n",
       "      <th>2</th>\n",
       "      <td>23</td>\n",
       "      <td>Mesa</td>\n",
       "    </tr>\n",
       "    <tr>\n",
       "      <th>3</th>\n",
       "      <td>33</td>\n",
       "      <td>Raleigh</td>\n",
       "    </tr>\n",
       "    <tr>\n",
       "      <th>4</th>\n",
       "      <td>1</td>\n",
       "      <td>Atlanta</td>\n",
       "    </tr>\n",
       "    <tr>\n",
       "      <th>5</th>\n",
       "      <td>28</td>\n",
       "      <td>Oklahoma City</td>\n",
       "    </tr>\n",
       "    <tr>\n",
       "      <th>6</th>\n",
       "      <td>39</td>\n",
       "      <td>Seattle</td>\n",
       "    </tr>\n",
       "    <tr>\n",
       "      <th>7</th>\n",
       "      <td>16</td>\n",
       "      <td>Indianapolis</td>\n",
       "    </tr>\n",
       "  </tbody>\n",
       "</table>\n",
       "</div>"
      ],
      "text/plain": [
       "   Location_numeric       Location\n",
       "0                36      San Diego\n",
       "1                15        Houston\n",
       "2                23           Mesa\n",
       "3                33        Raleigh\n",
       "4                 1        Atlanta\n",
       "5                28  Oklahoma City\n",
       "6                39        Seattle\n",
       "7                16   Indianapolis"
      ]
     },
     "execution_count": 19,
     "metadata": {},
     "output_type": "execute_result"
    }
   ],
   "source": [
    "# Some columns have data in them as strongs that would be helpful to map to integers for plotting \n",
    "print(df[\"Channel\"].unique())\n",
    "\n",
    "# The manual mapping of strings to integers\n",
    "# mapping = {'ATM': 0, 'Online': 1, 'Branch': 2}\n",
    "# df['Channel_numeric'] = df['Channel'].map(mapping)\n",
    "\n",
    "# Now lets map the keys automatically\n",
    "df['Channel_numeric'] = df['Channel'].astype('category').cat.codes\n",
    "df[['Channel_numeric',\"Channel\"]].head(8)\n",
    "\n",
    "# Now lets map the location keys automatically\n",
    "df['Location_numeric'] = df['Location'].astype('category').cat.codes\n",
    "df[['Location_numeric',\"Location\"]].head(8)"
   ]
  },
  {
   "cell_type": "code",
   "execution_count": 9,
   "id": "15402d08",
   "metadata": {},
   "outputs": [
    {
     "name": "stdout",
     "output_type": "stream",
     "text": [
      "['Doctor' 'Student' 'Retired' 'Engineer']\n",
      "There are 495 customers in this dataset\n"
     ]
    }
   ],
   "source": [
    "# We can begin to see the trends in the types of customers by sorting them into career types.\n",
    "# The spending habits of students will be different from the spending habits of Retirees\n",
    "\n",
    "# Obtain a list of the career types in the dataset, mabe build a specific network for each?\n",
    "occupations = df[\"CustomerOccupation\"].unique()\n",
    "print(occupations)\n",
    "\n",
    "# How many unique customers are there in this dataset?\n",
    "customer_IDs = df[\"AccountID\"].unique()\n",
    "print(\"There are {} customers in this dataset\".format(len(customer_IDs)))\n",
    "\n",
    "# Creating dataframes for each career type, maybe a dictionary is best here though\n",
    "occupations_dfs = []\n",
    "\n",
    "for job in occupations:\n",
    "    occupations_dfs.append(df[df[\"CustomerOccupation\"] == job])\n",
    "  "
   ]
  },
  {
   "cell_type": "code",
   "execution_count": 10,
   "id": "2e18dabb",
   "metadata": {},
   "outputs": [
    {
     "data": {
      "image/png": "[encoded data removed]",
      "text/plain": [
       "<Figure size 640x480 with 4 Axes>"
      ]
     },
     "metadata": {},
     "output_type": "display_data"
    }
   ],
   "source": [
    "# Begin plotting the characteristics of each career type for analysis\n",
    "fig, axs = plt.subplots(2, 2)\n",
    "plot_array = [axs[0,0], axs[0,1], axs[1,0], axs[1,1]]\n",
    "\n",
    "interesting_features = [\"CustomerAge\", \"TransactionAmount\", \"TransactionDuration\", \"Channel_numeric\"]\n",
    "\n",
    "for var in interesting_features:\n",
    "    for career, plt_subfig in zip(occupations_dfs, plot_array):\n",
    "        # Clearing the figures to plot other variables\n",
    "        plt_subfig.cla()\n",
    "        career.hist(column=var, ax=plt_subfig)\n",
    "        # Giving each plot a career type\n",
    "        plt_subfig.set_title(career[\"CustomerOccupation\"].iloc[0])\n",
    "        plt.suptitle(var)\n",
    "        \n",
    "    plt.savefig(\"{}.png\".format(var))\n"
   ]
  },
  {
   "cell_type": "code",
   "execution_count": 25,
   "id": "ef2f7a31",
   "metadata": {},
   "outputs": [
    {
     "name": "stdout",
     "output_type": "stream",
     "text": [
      "There are 495 customers in this dataset\n",
      "AC00128\n",
      "     AccountID      Location\n",
      "0      AC00128     San Diego\n",
      "401    AC00128    Sacramento\n",
      "487    AC00128       El Paso\n",
      "1281   AC00128        Austin\n",
      "1756   AC00128       Chicago\n",
      "1865   AC00128      Portland\n",
      "2470   AC00128  Jacksonville\n",
      "AC00455\n",
      "     AccountID          Location\n",
      "1      AC00455           Houston\n",
      "273    AC00455         Baltimore\n",
      "749    AC00455            Dallas\n",
      "1126   AC00455         Nashville\n",
      "1347   AC00455           Memphis\n",
      "1433   AC00455  Colorado Springs\n",
      "1614   AC00455          Portland\n"
     ]
    }
   ],
   "source": [
    "# Creating datasets for each customer, to do anomaly detection on a customer by customer basis\n",
    "customer_IDs = df[\"AccountID\"].unique()\n",
    "print(\"There are {} customers in this dataset\".format(len(customer_IDs)))\n",
    "\n",
    "for customer in customer_IDs[:2]:\n",
    "    print(customer)\n",
    "    customer_df = df[df[\"AccountID\"] == customer]\n",
    "    print(customer_df[[\"AccountID\", \"Location\"]])\n",
    "    customer_df.to_csv('{}.csv'.format(customer), index=False)"
   ]
  },
  {
   "cell_type": "code",
   "execution_count": null,
   "id": "917697a1",
   "metadata": {},
   "outputs": [],
   "source": []
  }
 ],
 "metadata": {
  "kernelspec": {
   "display_name": "Python 3 (ipykernel)",
   "language": "python",
   "name": "python3"
  },
  "language_info": {
   "codemirror_mode": {
    "name": "ipython",
    "version": 3
   },
   "file_extension": ".py",
   "mimetype": "text/x-python",
   "name": "python",
   "nbconvert_exporter": "python",
   "pygments_lexer": "ipython3",
   "version": "3.11.5"
  }
 },
 "nbformat": 4,
 "nbformat_minor": 5
}
