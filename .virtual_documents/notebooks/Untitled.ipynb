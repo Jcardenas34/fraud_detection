import pandas as pd
import matplotlib.pyplot as plt
import seaborn as sns


original_df = pd.read_hdf("../dataset/credit_card_fraud.h5",key="fraud_dataset")
synthetic_df = pd.read_hdf("../dataset/synthetic_dataset.h5",key="fraud_dataset")
quantile_synthetic_df = pd.read_hdf("../dataset/synthetic_dataset_quantile.h5",key="fraud_dataset")


synthetic_df.columns = original_df.columns
quantile_synthetic_df.columns = original_df.columns
synthetic_df.head()


n_cols = len(original_df.columns)
fig, axs =  plt.subplots(n_cols,3, figsize=(15,30))
for index, var in enumerate(original_df.columns):
    original_df[var].hist(ax=axs[index,0])
    synthetic_df[var].hist(ax=axs[index,1])
    quantile_synthetic_df[var].hist(ax=axs[index,2])
    axs[index,0].set_title(var)






