{
 "cells": [
  {
   "cell_type": "code",
   "execution_count": 21,
   "id": "4b5b0c8b-c454-4d58-a8ef-c168a881da01",
   "metadata": {},
   "outputs": [],
   "source": [
    "import pandas as pd\n",
    "# import ip2geotools # from https://github.com/tomas-net/ip2geotools\n",
    "from ip2geotools.databases.noncommercial import DbIpCity\n",
    "import geoip2.webservice"
   ]
  },
  {
   "cell_type": "code",
   "execution_count": 2,
   "id": "287e222b-af6b-4b34-9b24-58e560dd668e",
   "metadata": {},
   "outputs": [
    {
     "data": {
      "text/html": [
       "<div>\n",
       "<style scoped>\n",
       "    .dataframe tbody tr th:only-of-type {\n",
       "        vertical-align: middle;\n",
       "    }\n",
       "\n",
       "    .dataframe tbody tr th {\n",
       "        vertical-align: top;\n",
       "    }\n",
       "\n",
       "    .dataframe thead th {\n",
       "        text-align: right;\n",
       "    }\n",
       "</style>\n",
       "<table border=\"1\" class=\"dataframe\">\n",
       "  <thead>\n",
       "    <tr style=\"text-align: right;\">\n",
       "      <th></th>\n",
       "      <th>TransactionAmount</th>\n",
       "      <th>CustomerAge</th>\n",
       "      <th>TransactionDuration</th>\n",
       "      <th>LoginAttempts</th>\n",
       "      <th>AccountBalance</th>\n",
       "    </tr>\n",
       "  </thead>\n",
       "  <tbody>\n",
       "    <tr>\n",
       "      <th>count</th>\n",
       "      <td>2512.000000</td>\n",
       "      <td>2512.000000</td>\n",
       "      <td>2512.000000</td>\n",
       "      <td>2512.000000</td>\n",
       "      <td>2512.000000</td>\n",
       "    </tr>\n",
       "    <tr>\n",
       "      <th>mean</th>\n",
       "      <td>297.593778</td>\n",
       "      <td>44.673965</td>\n",
       "      <td>119.643312</td>\n",
       "      <td>1.124602</td>\n",
       "      <td>5114.302966</td>\n",
       "    </tr>\n",
       "    <tr>\n",
       "      <th>std</th>\n",
       "      <td>291.946243</td>\n",
       "      <td>17.792198</td>\n",
       "      <td>69.963757</td>\n",
       "      <td>0.602662</td>\n",
       "      <td>3900.942499</td>\n",
       "    </tr>\n",
       "    <tr>\n",
       "      <th>min</th>\n",
       "      <td>0.260000</td>\n",
       "      <td>18.000000</td>\n",
       "      <td>10.000000</td>\n",
       "      <td>1.000000</td>\n",
       "      <td>101.250000</td>\n",
       "    </tr>\n",
       "    <tr>\n",
       "      <th>25%</th>\n",
       "      <td>81.885000</td>\n",
       "      <td>27.000000</td>\n",
       "      <td>63.000000</td>\n",
       "      <td>1.000000</td>\n",
       "      <td>1504.370000</td>\n",
       "    </tr>\n",
       "    <tr>\n",
       "      <th>50%</th>\n",
       "      <td>211.140000</td>\n",
       "      <td>45.000000</td>\n",
       "      <td>112.500000</td>\n",
       "      <td>1.000000</td>\n",
       "      <td>4735.510000</td>\n",
       "    </tr>\n",
       "    <tr>\n",
       "      <th>75%</th>\n",
       "      <td>414.527500</td>\n",
       "      <td>59.000000</td>\n",
       "      <td>161.000000</td>\n",
       "      <td>1.000000</td>\n",
       "      <td>7678.820000</td>\n",
       "    </tr>\n",
       "    <tr>\n",
       "      <th>max</th>\n",
       "      <td>1919.110000</td>\n",
       "      <td>80.000000</td>\n",
       "      <td>300.000000</td>\n",
       "      <td>5.000000</td>\n",
       "      <td>14977.990000</td>\n",
       "    </tr>\n",
       "  </tbody>\n",
       "</table>\n",
       "</div>"
      ],
      "text/plain": [
       "       TransactionAmount  CustomerAge  TransactionDuration  LoginAttempts  \\\n",
       "count        2512.000000  2512.000000          2512.000000    2512.000000   \n",
       "mean          297.593778    44.673965           119.643312       1.124602   \n",
       "std           291.946243    17.792198            69.963757       0.602662   \n",
       "min             0.260000    18.000000            10.000000       1.000000   \n",
       "25%            81.885000    27.000000            63.000000       1.000000   \n",
       "50%           211.140000    45.000000           112.500000       1.000000   \n",
       "75%           414.527500    59.000000           161.000000       1.000000   \n",
       "max          1919.110000    80.000000           300.000000       5.000000   \n",
       "\n",
       "       AccountBalance  \n",
       "count     2512.000000  \n",
       "mean      5114.302966  \n",
       "std       3900.942499  \n",
       "min        101.250000  \n",
       "25%       1504.370000  \n",
       "50%       4735.510000  \n",
       "75%       7678.820000  \n",
       "max      14977.990000  "
      ]
     },
     "execution_count": 2,
     "metadata": {},
     "output_type": "execute_result"
    }
   ],
   "source": [
    "df = pd.read_csv(\"./dataset/bank_transactions_data_2.csv\")\n",
    "df.describe()"
   ]
  },
  {
   "cell_type": "code",
   "execution_count": 5,
   "id": "23288f2f-95a0-41f3-b066-2807392bdf58",
   "metadata": {},
   "outputs": [
    {
     "data": {
      "text/plain": [
       "Index(['TransactionID', 'AccountID', 'TransactionAmount', 'TransactionDate',\n",
       "       'TransactionType', 'Location', 'DeviceID', 'IP Address', 'MerchantID',\n",
       "       'Channel', 'CustomerAge', 'CustomerOccupation', 'TransactionDuration',\n",
       "       'LoginAttempts', 'AccountBalance', 'PreviousTransactionDate'],\n",
       "      dtype='object')"
      ]
     },
     "execution_count": 5,
     "metadata": {},
     "output_type": "execute_result"
    }
   ],
   "source": [
    "df.columns"
   ]
  },
  {
   "cell_type": "code",
   "execution_count": 6,
   "id": "cd14748a-cca5-4a13-89b5-62e450a38b13",
   "metadata": {},
   "outputs": [
    {
     "data": {
      "text/html": [
       "<div>\n",
       "<style scoped>\n",
       "    .dataframe tbody tr th:only-of-type {\n",
       "        vertical-align: middle;\n",
       "    }\n",
       "\n",
       "    .dataframe tbody tr th {\n",
       "        vertical-align: top;\n",
       "    }\n",
       "\n",
       "    .dataframe thead th {\n",
       "        text-align: right;\n",
       "    }\n",
       "</style>\n",
       "<table border=\"1\" class=\"dataframe\">\n",
       "  <thead>\n",
       "    <tr style=\"text-align: right;\">\n",
       "      <th></th>\n",
       "      <th>TransactionID</th>\n",
       "      <th>AccountID</th>\n",
       "      <th>TransactionAmount</th>\n",
       "      <th>TransactionDate</th>\n",
       "      <th>TransactionType</th>\n",
       "      <th>Location</th>\n",
       "      <th>DeviceID</th>\n",
       "      <th>IP Address</th>\n",
       "      <th>MerchantID</th>\n",
       "      <th>Channel</th>\n",
       "      <th>CustomerAge</th>\n",
       "      <th>CustomerOccupation</th>\n",
       "      <th>TransactionDuration</th>\n",
       "      <th>LoginAttempts</th>\n",
       "      <th>AccountBalance</th>\n",
       "      <th>PreviousTransactionDate</th>\n",
       "    </tr>\n",
       "  </thead>\n",
       "  <tbody>\n",
       "    <tr>\n",
       "      <th>2210</th>\n",
       "      <td>TX002211</td>\n",
       "      <td>AC00349</td>\n",
       "      <td>23.14</td>\n",
       "      <td>11/15/23 17:23</td>\n",
       "      <td>Credit</td>\n",
       "      <td>Mesa</td>\n",
       "      <td>D000555</td>\n",
       "      <td>122.30.82.244</td>\n",
       "      <td>M064</td>\n",
       "      <td>Online</td>\n",
       "      <td>47</td>\n",
       "      <td>Doctor</td>\n",
       "      <td>93</td>\n",
       "      <td>1</td>\n",
       "      <td>10536.54</td>\n",
       "      <td>11/4/24 08:09</td>\n",
       "    </tr>\n",
       "    <tr>\n",
       "      <th>1699</th>\n",
       "      <td>TX001700</td>\n",
       "      <td>AC00244</td>\n",
       "      <td>152.34</td>\n",
       "      <td>10/12/23 17:10</td>\n",
       "      <td>Debit</td>\n",
       "      <td>Omaha</td>\n",
       "      <td>D000128</td>\n",
       "      <td>110.64.1.201</td>\n",
       "      <td>M044</td>\n",
       "      <td>Branch</td>\n",
       "      <td>55</td>\n",
       "      <td>Doctor</td>\n",
       "      <td>115</td>\n",
       "      <td>1</td>\n",
       "      <td>6853.51</td>\n",
       "      <td>11/4/24 08:08</td>\n",
       "    </tr>\n",
       "    <tr>\n",
       "      <th>402</th>\n",
       "      <td>TX000403</td>\n",
       "      <td>AC00292</td>\n",
       "      <td>712.75</td>\n",
       "      <td>5/26/23 17:07</td>\n",
       "      <td>Debit</td>\n",
       "      <td>Philadelphia</td>\n",
       "      <td>D000573</td>\n",
       "      <td>57.166.147.242</td>\n",
       "      <td>M074</td>\n",
       "      <td>Branch</td>\n",
       "      <td>44</td>\n",
       "      <td>Doctor</td>\n",
       "      <td>25</td>\n",
       "      <td>1</td>\n",
       "      <td>8126.06</td>\n",
       "      <td>11/4/24 08:09</td>\n",
       "    </tr>\n",
       "    <tr>\n",
       "      <th>686</th>\n",
       "      <td>TX000687</td>\n",
       "      <td>AC00370</td>\n",
       "      <td>280.92</td>\n",
       "      <td>1/1/24 18:21</td>\n",
       "      <td>Debit</td>\n",
       "      <td>Phoenix</td>\n",
       "      <td>D000320</td>\n",
       "      <td>120.170.93.69</td>\n",
       "      <td>M048</td>\n",
       "      <td>Online</td>\n",
       "      <td>41</td>\n",
       "      <td>Doctor</td>\n",
       "      <td>168</td>\n",
       "      <td>1</td>\n",
       "      <td>5298.85</td>\n",
       "      <td>11/4/24 08:06</td>\n",
       "    </tr>\n",
       "    <tr>\n",
       "      <th>573</th>\n",
       "      <td>TX000574</td>\n",
       "      <td>AC00461</td>\n",
       "      <td>350.46</td>\n",
       "      <td>12/8/23 16:16</td>\n",
       "      <td>Debit</td>\n",
       "      <td>Nashville</td>\n",
       "      <td>D000079</td>\n",
       "      <td>152.234.65.155</td>\n",
       "      <td>M023</td>\n",
       "      <td>Branch</td>\n",
       "      <td>51</td>\n",
       "      <td>Retired</td>\n",
       "      <td>165</td>\n",
       "      <td>1</td>\n",
       "      <td>5839.38</td>\n",
       "      <td>11/4/24 08:06</td>\n",
       "    </tr>\n",
       "  </tbody>\n",
       "</table>\n",
       "</div>"
      ],
      "text/plain": [
       "     TransactionID AccountID  TransactionAmount TransactionDate  \\\n",
       "2210      TX002211   AC00349              23.14  11/15/23 17:23   \n",
       "1699      TX001700   AC00244             152.34  10/12/23 17:10   \n",
       "402       TX000403   AC00292             712.75   5/26/23 17:07   \n",
       "686       TX000687   AC00370             280.92    1/1/24 18:21   \n",
       "573       TX000574   AC00461             350.46   12/8/23 16:16   \n",
       "\n",
       "     TransactionType      Location DeviceID      IP Address MerchantID  \\\n",
       "2210          Credit          Mesa  D000555   122.30.82.244       M064   \n",
       "1699           Debit         Omaha  D000128    110.64.1.201       M044   \n",
       "402            Debit  Philadelphia  D000573  57.166.147.242       M074   \n",
       "686            Debit       Phoenix  D000320   120.170.93.69       M048   \n",
       "573            Debit     Nashville  D000079  152.234.65.155       M023   \n",
       "\n",
       "     Channel  CustomerAge CustomerOccupation  TransactionDuration  \\\n",
       "2210  Online           47             Doctor                   93   \n",
       "1699  Branch           55             Doctor                  115   \n",
       "402   Branch           44             Doctor                   25   \n",
       "686   Online           41             Doctor                  168   \n",
       "573   Branch           51            Retired                  165   \n",
       "\n",
       "      LoginAttempts  AccountBalance PreviousTransactionDate  \n",
       "2210              1        10536.54           11/4/24 08:09  \n",
       "1699              1         6853.51           11/4/24 08:08  \n",
       "402               1         8126.06           11/4/24 08:09  \n",
       "686               1         5298.85           11/4/24 08:06  \n",
       "573               1         5839.38           11/4/24 08:06  "
      ]
     },
     "execution_count": 6,
     "metadata": {},
     "output_type": "execute_result"
    }
   ],
   "source": [
    "df.sample(5)"
   ]
  },
  {
   "cell_type": "code",
   "execution_count": 20,
   "id": "cbf7aad7-ba56-4262-80db-aafd0950eff1",
   "metadata": {},
   "outputs": [
    {
     "data": {
      "text/html": [
       "<div>\n",
       "<style scoped>\n",
       "    .dataframe tbody tr th:only-of-type {\n",
       "        vertical-align: middle;\n",
       "    }\n",
       "\n",
       "    .dataframe tbody tr th {\n",
       "        vertical-align: top;\n",
       "    }\n",
       "\n",
       "    .dataframe thead th {\n",
       "        text-align: right;\n",
       "    }\n",
       "</style>\n",
       "<table border=\"1\" class=\"dataframe\">\n",
       "  <thead>\n",
       "    <tr style=\"text-align: right;\">\n",
       "      <th></th>\n",
       "      <th>IP Address</th>\n",
       "      <th>Location</th>\n",
       "    </tr>\n",
       "  </thead>\n",
       "  <tbody>\n",
       "    <tr>\n",
       "      <th>0</th>\n",
       "      <td>162.198.218.92</td>\n",
       "      <td>San Diego</td>\n",
       "    </tr>\n",
       "    <tr>\n",
       "      <th>1</th>\n",
       "      <td>13.149.61.4</td>\n",
       "      <td>Houston</td>\n",
       "    </tr>\n",
       "    <tr>\n",
       "      <th>2</th>\n",
       "      <td>215.97.143.157</td>\n",
       "      <td>Mesa</td>\n",
       "    </tr>\n",
       "    <tr>\n",
       "      <th>3</th>\n",
       "      <td>200.13.225.150</td>\n",
       "      <td>Raleigh</td>\n",
       "    </tr>\n",
       "    <tr>\n",
       "      <th>4</th>\n",
       "      <td>65.164.3.100</td>\n",
       "      <td>Atlanta</td>\n",
       "    </tr>\n",
       "  </tbody>\n",
       "</table>\n",
       "</div>"
      ],
      "text/plain": [
       "       IP Address   Location\n",
       "0  162.198.218.92  San Diego\n",
       "1     13.149.61.4    Houston\n",
       "2  215.97.143.157       Mesa\n",
       "3  200.13.225.150    Raleigh\n",
       "4    65.164.3.100    Atlanta"
      ]
     },
     "execution_count": 20,
     "metadata": {},
     "output_type": "execute_result"
    }
   ],
   "source": [
    "ip_and_location = df[[\"IP Address\",\"Location\"]]\n",
    "ip_and_location.head()"
   ]
  },
  {
   "cell_type": "code",
   "execution_count": 30,
   "id": "5dc65059-e8f2-4960-8561-d1d07c7620d4",
   "metadata": {},
   "outputs": [
    {
     "data": {
      "text/plain": [
       "'162.198.218.92'"
      ]
     },
     "execution_count": 30,
     "metadata": {},
     "output_type": "execute_result"
    }
   ],
   "source": [
    "ip_and_location.iloc[0,0]"
   ]
  },
  {
   "cell_type": "code",
   "execution_count": null,
   "id": "0acd8670-187d-4471-974c-b69d2bce5258",
   "metadata": {},
   "outputs": [],
   "source": []
  },
  {
   "cell_type": "code",
   "execution_count": 19,
   "id": "df4db656-0a70-4cb8-b245-3f69ee0220f5",
   "metadata": {},
   "outputs": [
    {
     "name": "stderr",
     "output_type": "stream",
     "text": [
      "Status code 403 from https://nominatim.openstreetmap.org/search: ERROR - 403 Client Error: Forbidden for url: https://nominatim.openstreetmap.org/search?q=Taylors%2C+South+Carolina+US&format=jsonv2&addressdetails=1&limit=1\n",
      "Status code 403 from https://nominatim.openstreetmap.org/search: ERROR - 403 Client Error: Forbidden for url: https://nominatim.openstreetmap.org/search?q=Taylors%2C+US&format=jsonv2&addressdetails=1&limit=1\n"
     ]
    },
    {
     "name": "stdout",
     "output_type": "stream",
     "text": [
      "Taylors San Diego \n",
      "\n"
     ]
    },
    {
     "name": "stderr",
     "output_type": "stream",
     "text": [
      "Status code 403 from https://nominatim.openstreetmap.org/search: ERROR - 403 Client Error: Forbidden for url: https://nominatim.openstreetmap.org/search?q=Norwalk%2C+Connecticut+US&format=jsonv2&addressdetails=1&limit=1\n",
      "Status code 403 from https://nominatim.openstreetmap.org/search: ERROR - 403 Client Error: Forbidden for url: https://nominatim.openstreetmap.org/search?q=Norwalk%2C+US&format=jsonv2&addressdetails=1&limit=1\n"
     ]
    },
    {
     "name": "stdout",
     "output_type": "stream",
     "text": [
      "Norwalk Houston \n",
      "\n"
     ]
    },
    {
     "name": "stderr",
     "output_type": "stream",
     "text": [
      "Status code 403 from https://nominatim.openstreetmap.org/search: ERROR - 403 Client Error: Forbidden for url: https://nominatim.openstreetmap.org/search?q=Columbus%2C+Ohio+US&format=jsonv2&addressdetails=1&limit=1\n",
      "Status code 403 from https://nominatim.openstreetmap.org/search: ERROR - 403 Client Error: Forbidden for url: https://nominatim.openstreetmap.org/search?q=Columbus%2C+US&format=jsonv2&addressdetails=1&limit=1\n"
     ]
    },
    {
     "name": "stdout",
     "output_type": "stream",
     "text": [
      "Columbus Mesa \n",
      "\n"
     ]
    },
    {
     "name": "stderr",
     "output_type": "stream",
     "text": [
      "Status code 403 from https://nominatim.openstreetmap.org/search: ERROR - 403 Client Error: Forbidden for url: https://nominatim.openstreetmap.org/search?q=Medell%C3%ADn+%28El+Poblado%29%2C+Antioquia+CO&format=jsonv2&addressdetails=1&limit=1\n",
      "Status code 403 from https://nominatim.openstreetmap.org/search: ERROR - 403 Client Error: Forbidden for url: https://nominatim.openstreetmap.org/search?q=Medell%C3%ADn+%28El+Poblado%29%2C+CO&format=jsonv2&addressdetails=1&limit=1\n"
     ]
    },
    {
     "name": "stdout",
     "output_type": "stream",
     "text": [
      "Medellín (El Poblado) Raleigh \n",
      "\n"
     ]
    },
    {
     "name": "stderr",
     "output_type": "stream",
     "text": [
      "Status code 403 from https://nominatim.openstreetmap.org/search: ERROR - 403 Client Error: Forbidden for url: https://nominatim.openstreetmap.org/search?q=Chicago%2C+Illinois+US&format=jsonv2&addressdetails=1&limit=1\n",
      "Status code 403 from https://nominatim.openstreetmap.org/search: ERROR - 403 Client Error: Forbidden for url: https://nominatim.openstreetmap.org/search?q=Chicago%2C+US&format=jsonv2&addressdetails=1&limit=1\n"
     ]
    },
    {
     "name": "stdout",
     "output_type": "stream",
     "text": [
      "Chicago Atlanta \n",
      "\n"
     ]
    },
    {
     "name": "stderr",
     "output_type": "stream",
     "text": [
      "Status code 403 from https://nominatim.openstreetmap.org/search: ERROR - 403 Client Error: Forbidden for url: https://nominatim.openstreetmap.org/search?q=Hefei%2C+Anhui+CN&format=jsonv2&addressdetails=1&limit=1\n",
      "Status code 403 from https://nominatim.openstreetmap.org/search: ERROR - 403 Client Error: Forbidden for url: https://nominatim.openstreetmap.org/search?q=Hefei%2C+CN&format=jsonv2&addressdetails=1&limit=1\n"
     ]
    },
    {
     "name": "stdout",
     "output_type": "stream",
     "text": [
      "Hefei Oklahoma City \n",
      "\n"
     ]
    },
    {
     "name": "stderr",
     "output_type": "stream",
     "text": [
      "Status code 403 from https://nominatim.openstreetmap.org/search: ERROR - 403 Client Error: Forbidden for url: https://nominatim.openstreetmap.org/search?q=Newark+%28Central+Ward%29%2C+New+Jersey+US&format=jsonv2&addressdetails=1&limit=1\n",
      "Status code 403 from https://nominatim.openstreetmap.org/search: ERROR - 403 Client Error: Forbidden for url: https://nominatim.openstreetmap.org/search?q=Newark+%28Central+Ward%29%2C+US&format=jsonv2&addressdetails=1&limit=1\n"
     ]
    },
    {
     "name": "stdout",
     "output_type": "stream",
     "text": [
      "Newark (Central Ward) Seattle \n",
      "\n"
     ]
    },
    {
     "name": "stderr",
     "output_type": "stream",
     "text": [
      "Status code 403 from https://nominatim.openstreetmap.org/search: ERROR - 403 Client Error: Forbidden for url: https://nominatim.openstreetmap.org/search?q=Frankfurt+am+Main%2C+Hesse+DE&format=jsonv2&addressdetails=1&limit=1\n",
      "Status code 403 from https://nominatim.openstreetmap.org/search: ERROR - 403 Client Error: Forbidden for url: https://nominatim.openstreetmap.org/search?q=Frankfurt+am+Main%2C+DE&format=jsonv2&addressdetails=1&limit=1\n"
     ]
    },
    {
     "name": "stdout",
     "output_type": "stream",
     "text": [
      "Frankfurt am Main Indianapolis \n",
      "\n"
     ]
    },
    {
     "name": "stderr",
     "output_type": "stream",
     "text": [
      "Status code 403 from https://nominatim.openstreetmap.org/search: ERROR - 403 Client Error: Forbidden for url: https://nominatim.openstreetmap.org/search?q=Evanston%2C+Illinois+US&format=jsonv2&addressdetails=1&limit=1\n",
      "Status code 403 from https://nominatim.openstreetmap.org/search: ERROR - 403 Client Error: Forbidden for url: https://nominatim.openstreetmap.org/search?q=Evanston%2C+US&format=jsonv2&addressdetails=1&limit=1\n"
     ]
    },
    {
     "name": "stdout",
     "output_type": "stream",
     "text": [
      "Evanston Detroit \n",
      "\n"
     ]
    },
    {
     "name": "stderr",
     "output_type": "stream",
     "text": [
      "Status code 403 from https://nominatim.openstreetmap.org/search: ERROR - 403 Client Error: Forbidden for url: https://nominatim.openstreetmap.org/search?q=Seattle%2C+Washington+US&format=jsonv2&addressdetails=1&limit=1\n",
      "Status code 403 from https://nominatim.openstreetmap.org/search: ERROR - 403 Client Error: Forbidden for url: https://nominatim.openstreetmap.org/search?q=Seattle%2C+US&format=jsonv2&addressdetails=1&limit=1\n"
     ]
    },
    {
     "name": "stdout",
     "output_type": "stream",
     "text": [
      "Seattle Nashville \n",
      "\n"
     ]
    },
    {
     "name": "stderr",
     "output_type": "stream",
     "text": [
      "Status code 403 from https://nominatim.openstreetmap.org/search: ERROR - 403 Client Error: Forbidden for url: https://nominatim.openstreetmap.org/search?q=Stockholm%2C+Stockholm+SE&format=jsonv2&addressdetails=1&limit=1\n",
      "Status code 403 from https://nominatim.openstreetmap.org/search: ERROR - 403 Client Error: Forbidden for url: https://nominatim.openstreetmap.org/search?q=Stockholm%2C+SE&format=jsonv2&addressdetails=1&limit=1\n"
     ]
    },
    {
     "name": "stdout",
     "output_type": "stream",
     "text": [
      "Stockholm Albuquerque \n",
      "\n"
     ]
    },
    {
     "name": "stderr",
     "output_type": "stream",
     "text": [
      "Status code 403 from https://nominatim.openstreetmap.org/search: ERROR - 403 Client Error: Forbidden for url: https://nominatim.openstreetmap.org/search?q=Jinrongjie+%28Xicheng+District%29%2C+Beijing+CN&format=jsonv2&addressdetails=1&limit=1\n",
      "Status code 403 from https://nominatim.openstreetmap.org/search: ERROR - 403 Client Error: Forbidden for url: https://nominatim.openstreetmap.org/search?q=Jinrongjie+%28Xicheng+District%29%2C+CN&format=jsonv2&addressdetails=1&limit=1\n"
     ]
    },
    {
     "name": "stdout",
     "output_type": "stream",
     "text": [
      "Jinrongjie (Xicheng District) Memphis \n",
      "\n"
     ]
    },
    {
     "name": "stderr",
     "output_type": "stream",
     "text": [
      "Status code 403 from https://nominatim.openstreetmap.org/search: ERROR - 403 Client Error: Forbidden for url: https://nominatim.openstreetmap.org/search?q=South+Brisbane%2C+Queensland+AU&format=jsonv2&addressdetails=1&limit=1\n",
      "Status code 403 from https://nominatim.openstreetmap.org/search: ERROR - 403 Client Error: Forbidden for url: https://nominatim.openstreetmap.org/search?q=South+Brisbane%2C+AU&format=jsonv2&addressdetails=1&limit=1\n"
     ]
    },
    {
     "name": "stdout",
     "output_type": "stream",
     "text": [
      "South Brisbane Mesa \n",
      "\n"
     ]
    },
    {
     "name": "stderr",
     "output_type": "stream",
     "text": [
      "Status code 403 from https://nominatim.openstreetmap.org/search: ERROR - 403 Client Error: Forbidden for url: https://nominatim.openstreetmap.org/search?q=Salzburg%2C+Salzburg+AT&format=jsonv2&addressdetails=1&limit=1\n",
      "Status code 403 from https://nominatim.openstreetmap.org/search: ERROR - 403 Client Error: Forbidden for url: https://nominatim.openstreetmap.org/search?q=Salzburg%2C+AT&format=jsonv2&addressdetails=1&limit=1\n"
     ]
    },
    {
     "name": "stdout",
     "output_type": "stream",
     "text": [
      "Salzburg Memphis \n",
      "\n"
     ]
    },
    {
     "name": "stderr",
     "output_type": "stream",
     "text": [
      "Status code 403 from https://nominatim.openstreetmap.org/search: ERROR - 403 Client Error: Forbidden for url: https://nominatim.openstreetmap.org/search?q=Gdansk%2C+Pomerania+PL&format=jsonv2&addressdetails=1&limit=1\n",
      "Status code 403 from https://nominatim.openstreetmap.org/search: ERROR - 403 Client Error: Forbidden for url: https://nominatim.openstreetmap.org/search?q=Gdansk%2C+PL&format=jsonv2&addressdetails=1&limit=1\n"
     ]
    },
    {
     "name": "stdout",
     "output_type": "stream",
     "text": [
      "Gdansk Louisville \n",
      "\n"
     ]
    },
    {
     "name": "stderr",
     "output_type": "stream",
     "text": [
      "Status code 403 from https://nominatim.openstreetmap.org/search: ERROR - 403 Client Error: Forbidden for url: https://nominatim.openstreetmap.org/search?q=Danshui%2C+Taipei+TW&format=jsonv2&addressdetails=1&limit=1\n",
      "Status code 403 from https://nominatim.openstreetmap.org/search: ERROR - 403 Client Error: Forbidden for url: https://nominatim.openstreetmap.org/search?q=Danshui%2C+TW&format=jsonv2&addressdetails=1&limit=1\n"
     ]
    },
    {
     "name": "stdout",
     "output_type": "stream",
     "text": [
      "Danshui Denver \n",
      "\n"
     ]
    },
    {
     "name": "stderr",
     "output_type": "stream",
     "text": [
      "Status code 403 from https://nominatim.openstreetmap.org/search: ERROR - 403 Client Error: Forbidden for url: https://nominatim.openstreetmap.org/search?q=Stuttgart+%28Untert%C3%BCrkheim%29%2C+Baden-W%C3%BCrttemberg+DE&format=jsonv2&addressdetails=1&limit=1\n",
      "Status code 403 from https://nominatim.openstreetmap.org/search: ERROR - 403 Client Error: Forbidden for url: https://nominatim.openstreetmap.org/search?q=Stuttgart+%28Untert%C3%BCrkheim%29%2C+DE&format=jsonv2&addressdetails=1&limit=1\n"
     ]
    },
    {
     "name": "stdout",
     "output_type": "stream",
     "text": [
      "Stuttgart (Untertürkheim) Austin \n",
      "\n"
     ]
    },
    {
     "name": "stderr",
     "output_type": "stream",
     "text": [
      "Status code 403 from https://nominatim.openstreetmap.org/search: ERROR - 403 Client Error: Forbidden for url: https://nominatim.openstreetmap.org/search?q=Wuxi%2C+Jiangsu+CN&format=jsonv2&addressdetails=1&limit=1\n",
      "Status code 403 from https://nominatim.openstreetmap.org/search: ERROR - 403 Client Error: Forbidden for url: https://nominatim.openstreetmap.org/search?q=Wuxi%2C+CN&format=jsonv2&addressdetails=1&limit=1\n"
     ]
    },
    {
     "name": "stdout",
     "output_type": "stream",
     "text": [
      "Wuxi Columbus \n",
      "\n"
     ]
    },
    {
     "name": "stderr",
     "output_type": "stream",
     "text": [
      "Status code 403 from https://nominatim.openstreetmap.org/search: ERROR - 403 Client Error: Forbidden for url: https://nominatim.openstreetmap.org/search?q=Frankfurt+am+Main%2C+Hesse+DE&format=jsonv2&addressdetails=1&limit=1\n",
      "Status code 403 from https://nominatim.openstreetmap.org/search: ERROR - 403 Client Error: Forbidden for url: https://nominatim.openstreetmap.org/search?q=Frankfurt+am+Main%2C+DE&format=jsonv2&addressdetails=1&limit=1\n"
     ]
    },
    {
     "name": "stdout",
     "output_type": "stream",
     "text": [
      "Frankfurt am Main Albuquerque \n",
      "\n"
     ]
    },
    {
     "name": "stderr",
     "output_type": "stream",
     "text": [
      "Status code 403 from https://nominatim.openstreetmap.org/search: ERROR - 403 Client Error: Forbidden for url: https://nominatim.openstreetmap.org/search?q=Jakarta%2C+Jakarta+ID&format=jsonv2&addressdetails=1&limit=1\n",
      "Status code 403 from https://nominatim.openstreetmap.org/search: ERROR - 403 Client Error: Forbidden for url: https://nominatim.openstreetmap.org/search?q=Jakarta%2C+ID&format=jsonv2&addressdetails=1&limit=1\n"
     ]
    },
    {
     "name": "stdout",
     "output_type": "stream",
     "text": [
      "Jakarta Columbus \n",
      "\n"
     ]
    },
    {
     "name": "stderr",
     "output_type": "stream",
     "text": [
      "Status code 403 from https://nominatim.openstreetmap.org/search: ERROR - 403 Client Error: Forbidden for url: https://nominatim.openstreetmap.org/search?q=Yongsan-dong+%28Hangang-daero%29%2C+Seoul+KR&format=jsonv2&addressdetails=1&limit=1\n",
      "Status code 403 from https://nominatim.openstreetmap.org/search: ERROR - 403 Client Error: Forbidden for url: https://nominatim.openstreetmap.org/search?q=Yongsan-dong+%28Hangang-daero%29%2C+KR&format=jsonv2&addressdetails=1&limit=1\n"
     ]
    },
    {
     "name": "stdout",
     "output_type": "stream",
     "text": [
      "Yongsan-dong (Hangang-daero) Los Angeles \n",
      "\n"
     ]
    },
    {
     "name": "stderr",
     "output_type": "stream",
     "text": [
      "Status code 403 from https://nominatim.openstreetmap.org/search: ERROR - 403 Client Error: Forbidden for url: https://nominatim.openstreetmap.org/search?q=Chiyoda%2C+Tokyo+JP&format=jsonv2&addressdetails=1&limit=1\n",
      "Status code 403 from https://nominatim.openstreetmap.org/search: ERROR - 403 Client Error: Forbidden for url: https://nominatim.openstreetmap.org/search?q=Chiyoda%2C+JP&format=jsonv2&addressdetails=1&limit=1\n"
     ]
    },
    {
     "name": "stdout",
     "output_type": "stream",
     "text": [
      "Chiyoda Las Vegas \n",
      "\n"
     ]
    },
    {
     "name": "stderr",
     "output_type": "stream",
     "text": [
      "Status code 403 from https://nominatim.openstreetmap.org/search: ERROR - 403 Client Error: Forbidden for url: https://nominatim.openstreetmap.org/search?q=Chiyoda%2C+Tokyo+JP&format=jsonv2&addressdetails=1&limit=1\n",
      "Status code 403 from https://nominatim.openstreetmap.org/search: ERROR - 403 Client Error: Forbidden for url: https://nominatim.openstreetmap.org/search?q=Chiyoda%2C+JP&format=jsonv2&addressdetails=1&limit=1\n"
     ]
    },
    {
     "name": "stdout",
     "output_type": "stream",
     "text": [
      "Chiyoda Atlanta \n",
      "\n"
     ]
    },
    {
     "name": "stderr",
     "output_type": "stream",
     "text": [
      "Status code 403 from https://nominatim.openstreetmap.org/search: ERROR - 403 Client Error: Forbidden for url: https://nominatim.openstreetmap.org/search?q=San+Telmo%2C+Buenos+Aires+F.D.+AR&format=jsonv2&addressdetails=1&limit=1\n",
      "Status code 403 from https://nominatim.openstreetmap.org/search: ERROR - 403 Client Error: Forbidden for url: https://nominatim.openstreetmap.org/search?q=San+Telmo%2C+AR&format=jsonv2&addressdetails=1&limit=1\n"
     ]
    },
    {
     "name": "stdout",
     "output_type": "stream",
     "text": [
      "San Telmo Fort Worth \n",
      "\n"
     ]
    },
    {
     "name": "stderr",
     "output_type": "stream",
     "text": [
      "Status code 403 from https://nominatim.openstreetmap.org/search: ERROR - 403 Client Error: Forbidden for url: https://nominatim.openstreetmap.org/search?q=Qingdao%2C+Shandong+CN&format=jsonv2&addressdetails=1&limit=1\n",
      "Status code 403 from https://nominatim.openstreetmap.org/search: ERROR - 403 Client Error: Forbidden for url: https://nominatim.openstreetmap.org/search?q=Qingdao%2C+CN&format=jsonv2&addressdetails=1&limit=1\n"
     ]
    },
    {
     "name": "stdout",
     "output_type": "stream",
     "text": [
      "Qingdao Raleigh \n",
      "\n"
     ]
    },
    {
     "name": "stderr",
     "output_type": "stream",
     "text": [
      "Status code 403 from https://nominatim.openstreetmap.org/search: ERROR - 403 Client Error: Forbidden for url: https://nominatim.openstreetmap.org/search?q=Le+Tampon%2C+R%C3%A9union+RE&format=jsonv2&addressdetails=1&limit=1\n",
      "Status code 403 from https://nominatim.openstreetmap.org/search: ERROR - 403 Client Error: Forbidden for url: https://nominatim.openstreetmap.org/search?q=Le+Tampon%2C+RE&format=jsonv2&addressdetails=1&limit=1\n"
     ]
    },
    {
     "name": "stdout",
     "output_type": "stream",
     "text": [
      "Le Tampon Houston \n",
      "\n"
     ]
    },
    {
     "name": "stderr",
     "output_type": "stream",
     "text": [
      "Status code 403 from https://nominatim.openstreetmap.org/search: ERROR - 403 Client Error: Forbidden for url: https://nominatim.openstreetmap.org/search?q=Sierra+Vista+%28Fort+Huachuca%29%2C+Arizona+US&format=jsonv2&addressdetails=1&limit=1\n",
      "Status code 403 from https://nominatim.openstreetmap.org/search: ERROR - 403 Client Error: Forbidden for url: https://nominatim.openstreetmap.org/search?q=Sierra+Vista+%28Fort+Huachuca%29%2C+US&format=jsonv2&addressdetails=1&limit=1\n"
     ]
    },
    {
     "name": "stdout",
     "output_type": "stream",
     "text": [
      "Sierra Vista (Fort Huachuca) Miami \n",
      "\n"
     ]
    },
    {
     "name": "stderr",
     "output_type": "stream",
     "text": [
      "Status code 403 from https://nominatim.openstreetmap.org/search: ERROR - 403 Client Error: Forbidden for url: https://nominatim.openstreetmap.org/search?q=Whitehall%2C+Ohio+US&format=jsonv2&addressdetails=1&limit=1\n",
      "Status code 403 from https://nominatim.openstreetmap.org/search: ERROR - 403 Client Error: Forbidden for url: https://nominatim.openstreetmap.org/search?q=Whitehall%2C+US&format=jsonv2&addressdetails=1&limit=1\n"
     ]
    },
    {
     "name": "stdout",
     "output_type": "stream",
     "text": [
      "Whitehall Milwaukee \n",
      "\n"
     ]
    },
    {
     "name": "stderr",
     "output_type": "stream",
     "text": [
      "Status code 403 from https://nominatim.openstreetmap.org/search: ERROR - 403 Client Error: Forbidden for url: https://nominatim.openstreetmap.org/search?q=Porto+Alegre%2C+Rio+Grande+do+Sul+BR&format=jsonv2&addressdetails=1&limit=1\n",
      "Status code 403 from https://nominatim.openstreetmap.org/search: ERROR - 403 Client Error: Forbidden for url: https://nominatim.openstreetmap.org/search?q=Porto+Alegre%2C+BR&format=jsonv2&addressdetails=1&limit=1\n"
     ]
    },
    {
     "name": "stdout",
     "output_type": "stream",
     "text": [
      "Porto Alegre Las Vegas \n",
      "\n"
     ]
    },
    {
     "name": "stderr",
     "output_type": "stream",
     "text": [
      "Status code 403 from https://nominatim.openstreetmap.org/search: ERROR - 403 Client Error: Forbidden for url: https://nominatim.openstreetmap.org/search?q=Whitehall%2C+Ohio+US&format=jsonv2&addressdetails=1&limit=1\n",
      "Status code 403 from https://nominatim.openstreetmap.org/search: ERROR - 403 Client Error: Forbidden for url: https://nominatim.openstreetmap.org/search?q=Whitehall%2C+US&format=jsonv2&addressdetails=1&limit=1\n"
     ]
    },
    {
     "name": "stdout",
     "output_type": "stream",
     "text": [
      "Whitehall Detroit \n",
      "\n"
     ]
    },
    {
     "name": "stderr",
     "output_type": "stream",
     "text": [
      "Status code 403 from https://nominatim.openstreetmap.org/search: ERROR - 403 Client Error: Forbidden for url: https://nominatim.openstreetmap.org/search?q=Ann+Arbor%2C+Michigan+US&format=jsonv2&addressdetails=1&limit=1\n",
      "Status code 403 from https://nominatim.openstreetmap.org/search: ERROR - 403 Client Error: Forbidden for url: https://nominatim.openstreetmap.org/search?q=Ann+Arbor%2C+US&format=jsonv2&addressdetails=1&limit=1\n"
     ]
    },
    {
     "name": "stdout",
     "output_type": "stream",
     "text": [
      "Ann Arbor Miami \n",
      "\n"
     ]
    },
    {
     "name": "stderr",
     "output_type": "stream",
     "text": [
      "Status code 403 from https://nominatim.openstreetmap.org/search: ERROR - 403 Client Error: Forbidden for url: https://nominatim.openstreetmap.org/search?q=Colonia+del+Sol%2C+Baja+California+Sur+MX&format=jsonv2&addressdetails=1&limit=1\n",
      "Status code 403 from https://nominatim.openstreetmap.org/search: ERROR - 403 Client Error: Forbidden for url: https://nominatim.openstreetmap.org/search?q=Colonia+del+Sol%2C+MX&format=jsonv2&addressdetails=1&limit=1\n"
     ]
    },
    {
     "name": "stdout",
     "output_type": "stream",
     "text": [
      "Colonia del Sol Baltimore \n",
      "\n"
     ]
    },
    {
     "name": "stderr",
     "output_type": "stream",
     "text": [
      "Status code 403 from https://nominatim.openstreetmap.org/search: ERROR - 403 Client Error: Forbidden for url: https://nominatim.openstreetmap.org/search?q=Chiyoda%2C+Tokyo+JP&format=jsonv2&addressdetails=1&limit=1\n",
      "Status code 403 from https://nominatim.openstreetmap.org/search: ERROR - 403 Client Error: Forbidden for url: https://nominatim.openstreetmap.org/search?q=Chiyoda%2C+JP&format=jsonv2&addressdetails=1&limit=1\n"
     ]
    },
    {
     "name": "stdout",
     "output_type": "stream",
     "text": [
      "Chiyoda New York \n",
      "\n"
     ]
    },
    {
     "name": "stderr",
     "output_type": "stream",
     "text": [
      "Status code 403 from https://nominatim.openstreetmap.org/search: ERROR - 403 Client Error: Forbidden for url: https://nominatim.openstreetmap.org/search?q=Madison%2C+Wisconsin+US&format=jsonv2&addressdetails=1&limit=1\n",
      "Status code 403 from https://nominatim.openstreetmap.org/search: ERROR - 403 Client Error: Forbidden for url: https://nominatim.openstreetmap.org/search?q=Madison%2C+US&format=jsonv2&addressdetails=1&limit=1\n"
     ]
    },
    {
     "name": "stdout",
     "output_type": "stream",
     "text": [
      "Madison Los Angeles \n",
      "\n"
     ]
    },
    {
     "name": "stderr",
     "output_type": "stream",
     "text": [
      "\n",
      "KeyboardInterrupt\n",
      "\n"
     ]
    }
   ],
   "source": [
    "for address, city in zip(ip_and_location[\"IP Address\"].values, ip_and_location[\"Location\"].values):\n",
    "    print(DbIpCity.get(address, api_key='free').city, city, \"\\n\")\n"
   ]
  },
  {
   "cell_type": "code",
   "execution_count": 13,
   "id": "b7069784-1796-420a-b7d0-15911fa2a046",
   "metadata": {},
   "outputs": [
    {
     "name": "stderr",
     "output_type": "stream",
     "text": [
      "Status code 403 from https://nominatim.openstreetmap.org/search: ERROR - 403 Client Error: Forbidden for url: https://nominatim.openstreetmap.org/search?q=Taylors%2C+South+Carolina+US&format=jsonv2&addressdetails=1&limit=1\n",
      "Status code 403 from https://nominatim.openstreetmap.org/search: ERROR - 403 Client Error: Forbidden for url: https://nominatim.openstreetmap.org/search?q=Taylors%2C+US&format=jsonv2&addressdetails=1&limit=1\n",
      "Status code 403 from https://nominatim.openstreetmap.org/search: ERROR - 403 Client Error: Forbidden for url: https://nominatim.openstreetmap.org/search?q=Norwalk%2C+Connecticut+US&format=jsonv2&addressdetails=1&limit=1\n",
      "Status code 403 from https://nominatim.openstreetmap.org/search: ERROR - 403 Client Error: Forbidden for url: https://nominatim.openstreetmap.org/search?q=Norwalk%2C+US&format=jsonv2&addressdetails=1&limit=1\n",
      "Status code 403 from https://nominatim.openstreetmap.org/search: ERROR - 403 Client Error: Forbidden for url: https://nominatim.openstreetmap.org/search?q=Columbus%2C+Ohio+US&format=jsonv2&addressdetails=1&limit=1\n",
      "Status code 403 from https://nominatim.openstreetmap.org/search: ERROR - 403 Client Error: Forbidden for url: https://nominatim.openstreetmap.org/search?q=Columbus%2C+US&format=jsonv2&addressdetails=1&limit=1\n",
      "Status code 403 from https://nominatim.openstreetmap.org/search: ERROR - 403 Client Error: Forbidden for url: https://nominatim.openstreetmap.org/search?q=Medell%C3%ADn+%28El+Poblado%29%2C+Antioquia+CO&format=jsonv2&addressdetails=1&limit=1\n",
      "Status code 403 from https://nominatim.openstreetmap.org/search: ERROR - 403 Client Error: Forbidden for url: https://nominatim.openstreetmap.org/search?q=Medell%C3%ADn+%28El+Poblado%29%2C+CO&format=jsonv2&addressdetails=1&limit=1\n",
      "Status code 403 from https://nominatim.openstreetmap.org/search: ERROR - 403 Client Error: Forbidden for url: https://nominatim.openstreetmap.org/search?q=Chicago%2C+Illinois+US&format=jsonv2&addressdetails=1&limit=1\n",
      "Status code 403 from https://nominatim.openstreetmap.org/search: ERROR - 403 Client Error: Forbidden for url: https://nominatim.openstreetmap.org/search?q=Chicago%2C+US&format=jsonv2&addressdetails=1&limit=1\n",
      "\n",
      "KeyboardInterrupt\n",
      "\n"
     ]
    }
   ],
   "source": [
    "ip_and_location[\"ip2geotools_location\"] = ip_and_location[\"IP Address\"].apply(DbIpCity.get)"
   ]
  },
  {
   "cell_type": "code",
   "execution_count": null,
   "id": "3fab90fd-e12e-464a-ab6b-acdd7f0a5feb",
   "metadata": {},
   "outputs": [],
   "source": []
  }
 ],
 "metadata": {
  "kernelspec": {
   "display_name": "Python 3 (ipykernel)",
   "language": "python",
   "name": "python3"
  },
  "language_info": {
   "codemirror_mode": {
    "name": "ipython",
    "version": 3
   },
   "file_extension": ".py",
   "mimetype": "text/x-python",
   "name": "python",
   "nbconvert_exporter": "python",
   "pygments_lexer": "ipython3",
   "version": "3.11.5"
  }
 },
 "nbformat": 4,
 "nbformat_minor": 5
}
