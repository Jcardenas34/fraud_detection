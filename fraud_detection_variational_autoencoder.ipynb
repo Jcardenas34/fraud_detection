{
 "cells": [
  {
   "cell_type": "code",
   "execution_count": 3,
   "id": "a6015c86-84cc-47d8-9c1a-a562b5a8f743",
   "metadata": {},
   "outputs": [],
   "source": [
    "# Importing the necessary libraries\n",
    "import torch\n",
    "import torch.nn as nn\n",
    "import torch.optim as optim\n",
    "import numpy\n",
    "import os\n",
    "import pandas as pd\n",
    "import argparse\n",
    "import h5py\n",
    "from sklearn.preprocessing import StandardScaler\n",
    "from torch.utils.data import DataLoader, TensorDataset\n",
    "import seaborn as sns\n",
    "import itertools\n",
    "from matplotlib import pyplot as plt\n",
    "from scipy.stats import zscore"
   ]
  },
  {
   "cell_type": "markdown",
   "id": "61f8eedd-e9dd-414d-bb40-a370b295a4ba",
   "metadata": {},
   "source": [
    "# Defining the model"
   ]
  },
  {
   "cell_type": "markdown",
   "id": "338365f3-ece9-4c72-9576-151ffc6f90d7",
   "metadata": {},
   "source": [
    "In this notebook I will use a variational auto encvoder to do the anamoly detection, this is differnt from the original auto encoder in that it maps the input to a latent space of a probability distribution. Lets see how it performs in comparison to the AE and the purely Z-score method"
   ]
  },
  {
   "cell_type": "code",
   "execution_count": 4,
   "id": "9627f75b-bb43-47df-ae5a-e3388d99f082",
   "metadata": {},
   "outputs": [],
   "source": [
    "class VariationalAutoencoder(nn.Module):\n",
    "    \"\"\"\n",
    "    Description:\n",
    "    ------------\n",
    "    Create a very simple variational autoencoder for detecting fraud transactions in credit card data. \n",
    "    \"\"\"\n",
    "    \n",
    "    def __init__(self, input_dim=11, hidden_dim=100, latent_dim=10):\n",
    "        super(VariationalAutoencoder, self).__init__()\n",
    "\n",
    "        # Encoder\n",
    "        self.fc1 = nn.Linear(input_dim, hidden_dim)\n",
    "        self.fc2 = nn.Linear(hidden_dim, hidden_dim)\n",
    "        self.fc_mu = nn.Linear(hidden_dim, latent_dim)     # Mean\n",
    "        self.fc_logvar = nn.Linear(hidden_dim, latent_dim) # Log Variance\n",
    "\n",
    "        # Decoder\n",
    "        self.fc3 = nn.Linear(latent_dim, hidden_dim)\n",
    "        self.fc4 = nn.Linear(hidden_dim, hidden_dim)\n",
    "        self.fc5 = nn.Linear(hidden_dim, input_dim)\n",
    "\n",
    "    def encode(self, x):\n",
    "        h = torch.relu(self.fc1(x))\n",
    "        h = torch.relu(self.fc2(h))\n",
    "        mu = self.fc_mu(h)\n",
    "        logvar = self.fc_logvar(h)\n",
    "        return mu, logvar\n",
    "\n",
    "    def reparameterize(self, mu, logvar):\n",
    "        std = torch.exp(0.5 * logvar)\n",
    "        eps = torch.randn_like(std)\n",
    "        return mu + eps * std\n",
    "\n",
    "    def decode(self, z):\n",
    "        h = torch.relu(self.fc3(z))\n",
    "        h = torch.relu(self.fc4(h))\n",
    "        return self.fc5(h)  # No activation for final output (regression task)\n",
    "\n",
    "    def forward(self, x):\n",
    "        mu, logvar = self.encode(x)\n",
    "        z = self.reparameterize(mu, logvar)\n",
    "        return self.decode(z), mu, logvar"
   ]
  },
  {
   "cell_type": "code",
   "execution_count": 5,
   "id": "f177d941-b582-4bf2-a1fe-f089b6a5948b",
   "metadata": {},
   "outputs": [],
   "source": [
    "def loss_function(recon_x, x, mu, logvar):\n",
    "    recon_loss = nn.MSELoss()(recon_x, x)  # Reconstruction loss\n",
    "    kl_divergence = -0.5 * torch.sum(1 + logvar - mu.pow(2) - logvar.exp())  # KL divergence\n",
    "    return recon_loss + kl_divergence"
   ]
  },
  {
   "cell_type": "code",
   "execution_count": 9,
   "id": "fd84f357-9023-41d9-9e4a-1f9014d864d9",
   "metadata": {},
   "outputs": [],
   "source": [
    "def train_vae(data_path, model_path, batch_size, epochs, learning_rate, num_workers, log_interval):\n",
    "    \"\"\"\n",
    "    Train a Variational Autoencoder (VAE) on the given dataset.\n",
    "    \"\"\"\n",
    "\n",
    "    # Load and preprocess data\n",
    "    df = pd.read_hdf(data_path, key='fraud_dataset')\n",
    "    X = StandardScaler().fit_transform(df)\n",
    "    X_tensor = torch.tensor(X, dtype=torch.float32)\n",
    "\n",
    "    dataset = TensorDataset(X_tensor)\n",
    "    dataloader = DataLoader(dataset, batch_size=batch_size, shuffle=True, num_workers=num_workers)\n",
    "\n",
    "    # Initialize the VAE model\n",
    "    device = torch.device(\"cuda\" if torch.cuda.is_available() else \"cpu\")\n",
    "    model = VariationalAutoencoder().to(device)\n",
    "    optimizer = optim.Adam(model.parameters(), lr=learning_rate)\n",
    "\n",
    "    # Training loop\n",
    "    model.train()\n",
    "    for epoch in range(epochs):\n",
    "        train_loss = 0\n",
    "        for batch_idx, (data,) in enumerate(dataloader):\n",
    "            data = data.to(device)\n",
    "            optimizer.zero_grad()\n",
    "            recon_data, mu, logvar = model(data)\n",
    "            loss = loss_function(recon_data, data, mu, logvar)\n",
    "            loss.backward()\n",
    "            optimizer.step()\n",
    "            train_loss += loss.item()\n",
    "\n",
    "            # if batch_idx % log_interval == 0:\n",
    "                # print(f\"Epoch {epoch+1}  [{batch_idx * len(data)}/{len(dataloader.dataset)}] Loss: {loss.item():.4f}\")\n",
    "\n",
    "        print(f\"Epoch {epoch+1} Average Loss: {train_loss / len(dataloader):.4f}\")\n",
    "\n",
    "    # Save the trained model\n",
    "    torch.save(model.state_dict(), model_path)\n"
   ]
  },
  {
   "cell_type": "markdown",
   "id": "f5dd9a86-80b7-4584-933e-30803181b216",
   "metadata": {},
   "source": [
    "# Training the model, and choosing parameters"
   ]
  },
  {
   "cell_type": "markdown",
   "id": "c6f67912-dd5b-4d99-b8bb-ecd5c9e19ff0",
   "metadata": {},
   "source": [
    "As with the origial auto encoder that I trained, I want to choose the batch size so that it contains mostly normal transactions. Based on teh z score analysis we think that there is a fraud rate of about 5% in this sample, so choosing a batch size above 5% of teh sample will make it likely that there is a los amount of fraudiulant transactionsin the batch. lets choose 10% so that we can have a VAE model to compare to the AE. We will eveuntually compare the overlap between the methods."
   ]
  },
  {
   "cell_type": "code",
   "execution_count": 25,
   "id": "5b1e3c84-80ba-4180-8115-c8023e24f38d",
   "metadata": {},
   "outputs": [
    {
     "name": "stdout",
     "output_type": "stream",
     "text": [
      "Choosing batch size to be about 10% of the data, batch_size=251\n"
     ]
    }
   ],
   "source": [
    "# Basing batch size on predicted fraud rate\n",
    "data_path = \"./credit_card_fraud.h5\"\n",
    "\n",
    "df = pd.read_hdf(data_path, key='fraud_dataset')\n",
    "dataset_len = len(df[\"Channel\"])\n",
    "batch_size = int(.10*dataset_len)\n",
    "\n",
    "print(\"Choosing batch size to be about 10% of the data, batch_size={}\".format(batch_size))"
   ]
  },
  {
   "cell_type": "code",
   "execution_count": 11,
   "id": "9bd72a91-54c6-4f7b-84d5-2bb72adb16dd",
   "metadata": {},
   "outputs": [
    {
     "name": "stdout",
     "output_type": "stream",
     "text": [
      "Epoch 1 Average Loss: 12.3378\n",
      "Epoch 2 Average Loss: 3.5219\n",
      "Epoch 3 Average Loss: 2.3148\n",
      "Epoch 4 Average Loss: 1.8489\n",
      "Epoch 5 Average Loss: 1.6491\n",
      "Epoch 6 Average Loss: 1.5222\n",
      "Epoch 7 Average Loss: 1.5946\n",
      "Epoch 8 Average Loss: 1.4176\n",
      "Epoch 9 Average Loss: 1.3430\n",
      "Epoch 10 Average Loss: 1.2871\n",
      "Epoch 11 Average Loss: 1.2526\n",
      "Epoch 12 Average Loss: 1.2445\n",
      "Epoch 13 Average Loss: 1.2104\n",
      "Epoch 14 Average Loss: 1.1861\n",
      "Epoch 15 Average Loss: 1.1598\n",
      "Epoch 16 Average Loss: 1.1773\n",
      "Epoch 17 Average Loss: 1.1547\n",
      "Epoch 18 Average Loss: 1.1436\n",
      "Epoch 19 Average Loss: 1.1291\n",
      "Epoch 20 Average Loss: 1.0965\n",
      "Epoch 21 Average Loss: 1.1378\n",
      "Epoch 22 Average Loss: 1.0624\n",
      "Epoch 23 Average Loss: 1.0917\n",
      "Epoch 24 Average Loss: 1.0640\n",
      "Epoch 25 Average Loss: 1.0631\n",
      "Epoch 26 Average Loss: 1.0568\n",
      "Epoch 27 Average Loss: 1.0583\n",
      "Epoch 28 Average Loss: 1.0663\n",
      "Epoch 29 Average Loss: 1.0336\n",
      "Epoch 30 Average Loss: 1.1593\n"
     ]
    }
   ],
   "source": [
    "model_out = \"vae_model.pth\"\n",
    "train_vae(data_path, model_out, batch_size=batch_size, epochs=30, learning_rate=0.001, num_workers=4, log_interval=100)"
   ]
  },
  {
   "cell_type": "markdown",
   "id": "3d266423-2ea7-43ca-98e9-fedf8e52a43e",
   "metadata": {},
   "source": [
    "# Interpreting the loss"
   ]
  },
  {
   "cell_type": "markdown",
   "id": "6eb1be9f-8b50-4b8f-b8d4-bb56296b1383",
   "metadata": {},
   "source": [
    "Again we see the loss hover around 1, but we dont want perfect reconstruction, and as long as we can differentiate the cases using MSE we should be ok to use this as a fraud detection method."
   ]
  },
  {
   "cell_type": "code",
   "execution_count": 12,
   "id": "ec39f34f-f4cb-468d-8350-c69f2f776d79",
   "metadata": {},
   "outputs": [],
   "source": [
    "def load_trained_vae(model_path):\n",
    "    device = torch.device(\"cuda\" if torch.cuda.is_available() else \"cpu\")\n",
    "    \n",
    "    model = VariationalAutoencoder().to(device)\n",
    "    model.load_state_dict(torch.load(model_path, map_location=device))\n",
    "    model.eval()\n",
    "    \n",
    "    return model, device\n",
    "\n",
    "def evaluate_fraud_instances(data_path, model_path, batch_size=128):\n",
    "    \"\"\"\n",
    "    Loads trained VAE and evaluates reconstruction error on the dataset.\n",
    "    \"\"\"\n",
    "    # Load and preprocess data\n",
    "    df = pd.read_hdf(data_path, key='fraud_dataset')\n",
    "    X = StandardScaler().fit_transform(df)\n",
    "    X_tensor = torch.tensor(X, dtype=torch.float32)\n",
    "\n",
    "    dataset = TensorDataset(X_tensor)\n",
    "    dataloader = DataLoader(dataset, batch_size=batch_size, shuffle=False)\n",
    "\n",
    "    # Load trained model\n",
    "    model, device = load_trained_vae(model_path)\n",
    "    \n",
    "    # Store reconstruction errors\n",
    "    reconstruction_errors = []\n",
    "\n",
    "    with torch.no_grad():\n",
    "        for batch in dataloader:\n",
    "            batch = batch[0].to(device)\n",
    "            reconstructed_batch, _, _ = model(batch)\n",
    "            error = torch.mean((batch - reconstructed_batch) ** 2, dim=1)  # MSE per instance\n",
    "            reconstruction_errors.extend(error.cpu().numpy())\n",
    "\n",
    "    return reconstruction_errors, df\n"
   ]
  },
  {
   "cell_type": "code",
   "execution_count": 15,
   "id": "9897c2b6-73e5-4681-ba1d-8d4362dd1094",
   "metadata": {},
   "outputs": [],
   "source": [
    "model_out = \"./vae_model.pth\"\n",
    "data_path = \"./credit_card_fraud.h5\"\n",
    "load_trained_vae(model_out)\n",
    "sample_errors_np, df = evaluate_fraud_instances(data_path, model_out, batch_size=128)"
   ]
  },
  {
   "cell_type": "markdown",
   "id": "ece0387d-4bc8-43ed-b862-bdaf7ae8cb3f",
   "metadata": {},
   "source": [
    "# Visualizing the MSE scores"
   ]
  },
  {
   "cell_type": "code",
   "execution_count": 16,
   "id": "872dbc33-c049-45bf-a06f-14692ce2ad3f",
   "metadata": {},
   "outputs": [],
   "source": [
    "# Transforming the scores into Z-Scores\n",
    "mse_zscores = zscore(sample_errors_np)\n",
    "df[\"MSE_VAE_zscores\"] = zscore(sample_errors_np)\n"
   ]
  },
  {
   "cell_type": "code",
   "execution_count": 18,
   "id": "9ecfd118-5e6e-405f-a9b3-d90b00957a18",
   "metadata": {},
   "outputs": [],
   "source": [
    "def create_histo_1d(x_var=\"MSE_AE\", hue_var=None, threshold=None, dataset=df):\n",
    "    # Histogram for plotting the frequency of a variable occurrence\n",
    "    plt.figure(figsize=(6, 4))\n",
    "    sns.histplot(\n",
    "        x=dataset[x_var],\n",
    "        hue = dataset[hue_var]>threshold,\n",
    "        alpha=0.7\n",
    "    )\n",
    "    plt.title(x_var, fontsize=16)\n",
    "    plt.xlabel(x_var, fontsize=14)\n",
    "    plt.grid(True)\n",
    "    plt.show()"
   ]
  },
  {
   "cell_type": "code",
   "execution_count": 20,
   "id": "0b59e281-a313-4d4f-a986-dde67e4898ef",
   "metadata": {},
   "outputs": [
    {
     "data": {
      "image/png": "[encoded data removed]",
      "text/plain": [
       "<Figure size 600x400 with 1 Axes>"
      ]
     },
     "metadata": {},
     "output_type": "display_data"
    },
    {
     "data": {
      "image/png": "[encoded data removed]",
      "text/plain": [
       "<Figure size 600x400 with 1 Axes>"
      ]
     },
     "metadata": {},
     "output_type": "display_data"
    }
   ],
   "source": [
    "df[\"MSE_VAE\"] = sample_errors_np\n",
    "create_histo_1d(\"MSE_VAE\",\"MSE_VAE\",threshold=2,dataset=df)\n",
    "create_histo_1d(\"MSE_VAE_zscores\",\"MSE_VAE_zscores\",threshold=2, dataset=df)"
   ]
  },
  {
   "cell_type": "markdown",
   "id": "7d77cd64-63d5-4ad2-8e70-0f92c01d4c37",
   "metadata": {},
   "source": [
    "Here once again we can see that the value of 2 separates the anamolous and te ordinary transactions pretty nicely. I will choose the value of 2 as the trhreshold for fraud when using the Z scores because that provides a statistically motivated reason."
   ]
  },
  {
   "cell_type": "code",
   "execution_count": 23,
   "id": "aadd0103-90e3-4ef7-b545-d0941ee9a7b6",
   "metadata": {},
   "outputs": [
    {
     "name": "stdout",
     "output_type": "stream",
     "text": [
      "68 out of 2512 data entries have fraud characteristics, or 2.7070063694267517% of the sample\n"
     ]
    }
   ],
   "source": [
    "df['MSE_VAE_Fraud'] = df['MSE_VAE_zscores'] > 2\n",
    "\n",
    "fraud_count =(df[\"MSE_VAE_Fraud\"]==True).sum()\n",
    "\n",
    "# Of all the cases, there are some that have a statistical anomaly enough for the autoencoder to pick up, and constitute fraud, these are\n",
    "print(\"{} out of {} data entries have fraud characteristics, or {}% of the sample\".format(fraud_count, df[\"MSE_VAE\"].count(),100*fraud_count/df[\"MSE_VAE\"].count()))"
   ]
  },
  {
   "cell_type": "markdown",
   "id": "bdb46735-4f84-4d76-8164-cad408f3c513",
   "metadata": {},
   "source": [
    "# Exporting the data"
   ]
  },
  {
   "cell_type": "markdown",
   "id": "4502a52d-de9c-48dd-bc13-9b410a9e2712",
   "metadata": {},
   "source": [
    "Lets export this dataset, so that we can make comparisons as to which transactions were flagged as fraud across methods"
   ]
  },
  {
   "cell_type": "code",
   "execution_count": 24,
   "id": "08139072-ccb9-4e49-88fe-6aa0965f555a",
   "metadata": {},
   "outputs": [],
   "source": [
    "df.to_csv(\"./identified_fraud_variational_autoencoder.csv\")"
   ]
  }
 ],
 "metadata": {
  "kernelspec": {
   "display_name": "Python 3 (ipykernel)",
   "language": "python",
   "name": "python3"
  },
  "language_info": {
   "codemirror_mode": {
    "name": "ipython",
    "version": 3
   },
   "file_extension": ".py",
   "mimetype": "text/x-python",
   "name": "python",
   "nbconvert_exporter": "python",
   "pygments_lexer": "ipython3",
   "version": "3.11.5"
  }
 },
 "nbformat": 4,
 "nbformat_minor": 5
}
